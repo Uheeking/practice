{
 "cells": [
  {
   "cell_type": "code",
   "execution_count": 1,
   "id": "cc758d83",
   "metadata": {},
   "outputs": [],
   "source": [
    "import torch\n",
    "import torch.nn as nn"
   ]
  },
  {
   "cell_type": "code",
   "execution_count": 2,
   "id": "3bc3c5cc",
   "metadata": {},
   "outputs": [],
   "source": [
    "inputs = torch.Tensor(1,1,28,28) # 배치, 채널, 높이, 너비"
   ]
  },
  {
   "cell_type": "code",
   "execution_count": 6,
   "id": "615748f7",
   "metadata": {},
   "outputs": [],
   "source": [
    "conv1 = nn.Conv2d(1,32,3,padding=1)\n",
    "conv2 = nn.Conv2d(32,64,3,padding=1)\n",
    "pool = nn.MaxPool2d(2)"
   ]
  },
  {
   "cell_type": "code",
   "execution_count": 9,
   "id": "512d3117",
   "metadata": {},
   "outputs": [
    {
     "name": "stdout",
     "output_type": "stream",
     "text": [
      "torch.Size([1, 3136])\n"
     ]
    }
   ],
   "source": [
    "out = conv1(inputs)\n",
    "out = pool(out)\n",
    "out = conv2(out)\n",
    "out = pool(out)\n",
    "out = out.view(out.size(0), -1)\n",
    "print(out.shape)"
   ]
  },
  {
   "cell_type": "code",
   "execution_count": 10,
   "id": "a4ff492c",
   "metadata": {},
   "outputs": [
    {
     "name": "stdout",
     "output_type": "stream",
     "text": [
      "torch.Size([1, 10])\n"
     ]
    }
   ],
   "source": [
    "fc = nn.Linear(3136, 10)\n",
    "out = fc(out)\n",
    "print(out.shape)"
   ]
  },
  {
   "cell_type": "code",
   "execution_count": 16,
   "id": "d70809d7",
   "metadata": {},
   "outputs": [],
   "source": [
    "import torch\n",
    "import torch.nn as nn\n",
    "import torchvision.datasets as dsets\n",
    "from torch.utils.data import DataLoader\n",
    "import torchvision.transforms as transforms\n",
    "import torch.nn.init"
   ]
  },
  {
   "cell_type": "code",
   "execution_count": 12,
   "id": "3c4343af",
   "metadata": {},
   "outputs": [],
   "source": [
    "device = 'cuda' if torch.cuda.is_available() else 'cpu'\n",
    "torch.manual_seed(1)\n",
    "if device == 'cuda':\n",
    "    torch.cuda.manual_seed_all(1)"
   ]
  },
  {
   "cell_type": "code",
   "execution_count": 13,
   "id": "6d908e4d",
   "metadata": {},
   "outputs": [],
   "source": [
    "mnist_train = dsets.MNIST(root='MNIST_data/',\n",
    "                         train=True,\n",
    "                         download=True,\n",
    "                         transform=transforms.ToTensor())\n",
    "mnist_test = dsets.MNIST(root='MNIST_data/',\n",
    "                         train=False,\n",
    "                         download=True,\n",
    "                         transform=transforms.ToTensor())"
   ]
  },
  {
   "cell_type": "code",
   "execution_count": 15,
   "id": "ecd059b9",
   "metadata": {},
   "outputs": [],
   "source": [
    "data_loader = DataLoader(dataset=mnist_train,\n",
    "                        batch_size=100,\n",
    "                        shuffle=True,\n",
    "                        drop_last=True)"
   ]
  },
  {
   "cell_type": "code",
   "execution_count": 49,
   "id": "279dba19",
   "metadata": {},
   "outputs": [],
   "source": [
    "class CNN(nn.Module):\n",
    "    def __init__(self):\n",
    "        super(CNN, self).__init__()\n",
    "        self.layer1 = torch.nn.Sequential(\n",
    "            torch.nn.Conv2d(1,32,3,1,1),\n",
    "            torch.nn.ReLU(),\n",
    "            torch.nn.MaxPool2d(kernel_size=2, stride=2))\n",
    "        \n",
    "        self.layer2 = torch.nn.Sequential(\n",
    "            torch.nn.Conv2d(32,64,3,1,1),\n",
    "            torch.nn.ReLU(),\n",
    "            torch.nn.MaxPool2d(kernel_size=2, stride=2)\n",
    "        )\n",
    "        self.fc = torch.nn.Linear(7*7*64, 10, bias=True)\n",
    "        \n",
    "        torch.nn.init.xavier_uniform_(self.fc.weight)\n",
    "        \n",
    "    def forward(self, x):\n",
    "        out = self.layer1(x)\n",
    "        out = self.layer2(out)\n",
    "        out = out.view(out.size(0), -1)\n",
    "        out = self.fc(out)\n",
    "        return out\n",
    "        "
   ]
  },
  {
   "cell_type": "code",
   "execution_count": 50,
   "id": "79e141b2",
   "metadata": {},
   "outputs": [],
   "source": [
    "model = CNN().to(device)"
   ]
  },
  {
   "cell_type": "code",
   "execution_count": 65,
   "id": "73aa25fd",
   "metadata": {},
   "outputs": [],
   "source": [
    "cost = torch.nn.CrossEntropyLoss().to(device)\n",
    "optimizer = torch.optim.Adam(model.parameters(), lr = 0.1)"
   ]
  },
  {
   "cell_type": "code",
   "execution_count": 66,
   "id": "c463100b",
   "metadata": {},
   "outputs": [
    {
     "name": "stdout",
     "output_type": "stream",
     "text": [
      "총 배치의 수 : 600\n"
     ]
    }
   ],
   "source": [
    "total_batch = len(data_loader)\n",
    "print(\"총 배치의 수 : {}\".format(total_batch))"
   ]
  },
  {
   "cell_type": "code",
   "execution_count": null,
   "id": "b00d6f46",
   "metadata": {},
   "outputs": [],
   "source": []
  },
  {
   "cell_type": "code",
   "execution_count": 71,
   "id": "eebbe327",
   "metadata": {},
   "outputs": [
    {
     "name": "stdout",
     "output_type": "stream",
     "text": [
      "epoch 0: 1/600 cost 0.45480412244796753\n",
      "epoch 0: 201/600 cost 0.36333411931991577\n",
      "epoch 0: 401/600 cost 0.5497111678123474\n",
      "epoch 1: 1/600 cost 0.3403093218803406\n",
      "epoch 1: 201/600 cost 0.7700449228286743\n",
      "epoch 1: 401/600 cost 0.30430787801742554\n",
      "epoch 2: 1/600 cost 0.28460681438446045\n",
      "epoch 2: 201/600 cost 0.2352205216884613\n",
      "epoch 2: 401/600 cost 0.1281309574842453\n",
      "epoch 3: 1/600 cost 0.35712066292762756\n",
      "epoch 3: 201/600 cost 0.2702096104621887\n",
      "epoch 3: 401/600 cost 0.456085205078125\n",
      "epoch 4: 1/600 cost 0.1895650327205658\n",
      "epoch 4: 201/600 cost 0.2953433692455292\n",
      "epoch 4: 401/600 cost 0.28070932626724243\n",
      "epoch 5: 1/600 cost 0.3077188730239868\n",
      "epoch 5: 201/600 cost 0.34438496828079224\n",
      "epoch 5: 401/600 cost 0.4817807078361511\n",
      "epoch 6: 1/600 cost 0.37607529759407043\n",
      "epoch 6: 201/600 cost 0.11265438795089722\n",
      "epoch 6: 401/600 cost 0.21125268936157227\n",
      "epoch 7: 1/600 cost 0.19984708726406097\n",
      "epoch 7: 201/600 cost 0.3572962284088135\n",
      "epoch 7: 401/600 cost 0.47909897565841675\n",
      "epoch 8: 1/600 cost 0.23658093810081482\n",
      "epoch 8: 201/600 cost 0.45386654138565063\n",
      "epoch 8: 401/600 cost 0.3565925657749176\n",
      "epoch 9: 1/600 cost 0.1266346424818039\n",
      "epoch 9: 201/600 cost 0.2764122188091278\n",
      "epoch 9: 401/600 cost 0.2878890931606293\n",
      "epoch 10: 1/600 cost 0.17647817730903625\n",
      "epoch 10: 201/600 cost 0.29847005009651184\n",
      "epoch 10: 401/600 cost 0.3146442472934723\n"
     ]
    }
   ],
   "source": [
    "for epoch in range(11):\n",
    "    avg_cost = 0\n",
    "    \n",
    "    for idx, data in enumerate(data_loader):\n",
    "        x, y = data\n",
    "        \n",
    "        x = x.to(device)\n",
    "        y = y.to(device)\n",
    "        \n",
    "        hypo = model(x)\n",
    "        loss = cost(hypo, y)\n",
    "        \n",
    "        optimizer.zero_grad()\n",
    "        loss.backward()\n",
    "        optimizer.step()\n",
    "        \n",
    "        if idx % 200 == 1 :\n",
    "            print(f'epoch {epoch}: {idx}/{len(data_loader)} cost {loss.item()}')"
   ]
  },
  {
   "cell_type": "code",
   "execution_count": 68,
   "id": "0bb4d147",
   "metadata": {},
   "outputs": [
    {
     "data": {
      "text/plain": [
       "600"
      ]
     },
     "execution_count": 68,
     "metadata": {},
     "output_type": "execute_result"
    }
   ],
   "source": [
    "len(data_loader)"
   ]
  },
  {
   "cell_type": "code",
   "execution_count": 73,
   "id": "9213fca5",
   "metadata": {},
   "outputs": [
    {
     "name": "stderr",
     "output_type": "stream",
     "text": [
      "/home/ubuntu/.local/lib/python3.6/site-packages/torchvision/datasets/mnist.py:69: UserWarning: test_data has been renamed data\n",
      "  warnings.warn(\"test_data has been renamed data\")\n"
     ]
    },
    {
     "name": "stdout",
     "output_type": "stream",
     "text": [
      "accuracy : 0.8337999582290649\n"
     ]
    },
    {
     "name": "stderr",
     "output_type": "stream",
     "text": [
      "/home/ubuntu/.local/lib/python3.6/site-packages/torchvision/datasets/mnist.py:59: UserWarning: test_labels has been renamed targets\n",
      "  warnings.warn(\"test_labels has been renamed targets\")\n"
     ]
    }
   ],
   "source": [
    "with torch.no_grad():\n",
    "    X_test = mnist_test.test_data.view(len(mnist_test),1,28,28).float().to(device)\n",
    "    Y_test = mnist_test.test_labels.to(device)\n",
    "                                       \n",
    "    pred = model(X_test)\n",
    "    corr_pred = torch.argmax(pred, 1) == Y_test\n",
    "    accuracy = corr_pred.float().mean()\n",
    "    print('accuracy :', accuracy.item())"
   ]
  },
  {
   "cell_type": "code",
   "execution_count": null,
   "id": "d2f4dbc1",
   "metadata": {},
   "outputs": [],
   "source": [
    "mnist_train = dsets.mnist(root='mnist_data/',\n",
    "                         train=True,\n",
    "                         download=True,\n",
    "                         transform=transforms.ToTensor())\n",
    "mnist_test = dsets.mnist(root='mnist_data/',\n",
    "                        train=True,\n",
    "                        download=True,\n",
    "                        transform=transforms.ToTensor())"
   ]
  },
  {
   "cell_type": "code",
   "execution_count": null,
   "id": "ab15fa50",
   "metadata": {},
   "outputs": [],
   "source": [
    "data_loader = torch.utils.data.DataLoader(dataset=mnist_train,\n",
    "                                         batch_size=100,\n",
    "                                         shuffle=True,\n",
    "                                         drop_last=True)"
   ]
  },
  {
   "cell_type": "code",
   "execution_count": null,
   "id": "b4d08066",
   "metadata": {},
   "outputs": [],
   "source": []
  },
  {
   "cell_type": "code",
   "execution_count": null,
   "id": "de777197",
   "metadata": {},
   "outputs": [],
   "source": []
  },
  {
   "cell_type": "code",
   "execution_count": null,
   "id": "435aaf80",
   "metadata": {},
   "outputs": [],
   "source": []
  },
  {
   "cell_type": "code",
   "execution_count": null,
   "id": "da64cf88",
   "metadata": {},
   "outputs": [],
   "source": []
  },
  {
   "cell_type": "code",
   "execution_count": null,
   "id": "cb63d345",
   "metadata": {},
   "outputs": [],
   "source": []
  },
  {
   "cell_type": "code",
   "execution_count": null,
   "id": "74c1352d",
   "metadata": {},
   "outputs": [],
   "source": []
  },
  {
   "cell_type": "code",
   "execution_count": null,
   "id": "d99b2be4",
   "metadata": {},
   "outputs": [],
   "source": []
  },
  {
   "cell_type": "code",
   "execution_count": null,
   "id": "657d3aff",
   "metadata": {},
   "outputs": [],
   "source": []
  },
  {
   "cell_type": "code",
   "execution_count": null,
   "id": "dd175209",
   "metadata": {},
   "outputs": [],
   "source": []
  },
  {
   "cell_type": "code",
   "execution_count": null,
   "id": "a435d6d6",
   "metadata": {},
   "outputs": [],
   "source": []
  },
  {
   "cell_type": "code",
   "execution_count": null,
   "id": "08ac66e4",
   "metadata": {},
   "outputs": [],
   "source": []
  },
  {
   "cell_type": "code",
   "execution_count": null,
   "id": "cb6047e3",
   "metadata": {},
   "outputs": [],
   "source": []
  }
 ],
 "metadata": {
  "kernelspec": {
   "display_name": "Python 3",
   "language": "python",
   "name": "python3"
  },
  "language_info": {
   "codemirror_mode": {
    "name": "ipython",
    "version": 3
   },
   "file_extension": ".py",
   "mimetype": "text/x-python",
   "name": "python",
   "nbconvert_exporter": "python",
   "pygments_lexer": "ipython3",
   "version": "3.6.9"
  }
 },
 "nbformat": 4,
 "nbformat_minor": 5
}
