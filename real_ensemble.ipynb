{
 "cells": [
  {
   "cell_type": "code",
   "execution_count": 1,
   "id": "245a7dbd",
   "metadata": {},
   "outputs": [],
   "source": [
    "# datamodule\n",
    "# 이미지\n",
    "from pytorch_lightning import LightningDataModule\n",
    "from torchvision.datasets import ImageFolder\n",
    "from torch.utils.data import random_split, DataLoader\n",
    "import torchvision.transforms as T"
   ]
  },
  {
   "cell_type": "code",
   "execution_count": 2,
   "id": "a1142094",
   "metadata": {},
   "outputs": [],
   "source": [
    "class DataModule(LightningDataModule):\n",
    "    def __init__(self):\n",
    "        super().__init__()\n",
    "        transform = T.Compose([\n",
    "            T.Resize(256),\n",
    "            T.RandomCrop(224),\n",
    "            T.ToTensor(), \n",
    "            T.Normalize(mean=[0.485, 0.456, 0.406],\n",
    "                        std=[0.229, 0.224, 0.225])\n",
    "        ])\n",
    "        dataset = ImageFolder('/data/datasets/k_fashion_detections/train', transform=transform)\n",
    "        \n",
    "        train_length = int(len(dataset)*.8)\n",
    "        val_length = len(dataset) - train_length\n",
    "        \n",
    "        self.train_dataset, self.val_dataset = random_split(dataset=dataset, lengths=[train_length, val_length])\n",
    "        self.batch_size = 128\n",
    "        self.num_workers =4\n",
    "        \n",
    "    def train_dataloader(self):\n",
    "        return DataLoader(dataset=self.train_dataset,\n",
    "                         batch_size=self.batch_size,\n",
    "                         num_workers=self.num_workers,\n",
    "                         pin_memory=True,\n",
    "                         drop_last=True)\n",
    "    \n",
    "    def val_dataloader(self):\n",
    "        return DataLoader(dataset=self.val_dataset,\n",
    "                         batch_size=self.batch_size,\n",
    "                         num_workers=self.num_workers,\n",
    "                         pin_memory=True,\n",
    "                         drop_last=True)"
   ]
  },
  {
   "cell_type": "code",
   "execution_count": 4,
   "id": "2c31a387",
   "metadata": {},
   "outputs": [],
   "source": [
    "import torch.nn as nn\n",
    "import torch.optim as optim\n",
    "import torch.nn.functional as F\n",
    "\n",
    "import torchvision.models as models\n",
    "from pytorch_lightning import LightningModule\n",
    "\n",
    "from torchmetrics import Accuracy, F1, Precision, Recall\n",
    "from ensemble_pr import *"
   ]
  },
  {
   "cell_type": "code",
   "execution_count": 5,
   "id": "31a43781",
   "metadata": {},
   "outputs": [],
   "source": [
    "class Network(LightningModule):\n",
    "    def __init__(self,\n",
    "                 ## 추가된 부분\n",
    "                 # 데이터가 많으면 freeze=False로 해야된다.\n",
    "                 freeze=False,\n",
    "                 classes_num=20,\n",
    "                 ## /추가된 부분\n",
    "                 learning_rate=1e-4):\n",
    "        super().__init__()\n",
    "        ## 추가된 부분\n",
    "        self.model = Ensemble()\n",
    "        \n",
    "        self.loss_fn = nn.NLLLoss()\n",
    "        self.learning_rate = learning_rate\n",
    "        \n",
    "        self.acc = Accuracy()\n",
    "        self.f1 = F1(num_classes=classes_num)\n",
    "        self.pre = Precision(num_classes=classes_num)\n",
    "        self.recall = Recall(num_classes=classes_num)\n",
    "    \n",
    "    def configure_optimizers(self):\n",
    "        return optim.AdamW(lr=self.learning_rate,\n",
    "                          params=self.model.parameters())\n",
    "        \n",
    "    def forward(self, x):\n",
    "        return F.log_softmax(self.model(x),dim=1)\n",
    "        \n",
    "    def training_step(self, batch, batch_idx):\n",
    "        x, y = batch\n",
    "        logits = self(x)\n",
    "        loss = self.loss_fn(logits, y)\n",
    "        # log\n",
    "        # default => on_epoch=False, on_step=True\n",
    "        self.log('train_loss', loss, on_epoch=True, on_step=True) # => train_loss_epoch, train_loss_step\n",
    "        # /log\n",
    "        return {'loss': loss}\n",
    "    \n",
    "    def validation_step(self, batch, batch_idx):\n",
    "        x, y = batch\n",
    "        logits = self(x)\n",
    "        loss = self.loss_fn(logits, y)\n",
    "        \n",
    "        self.acc(logits, y)\n",
    "        self.f1(logits, y)\n",
    "        self.pre(logits, y)\n",
    "        self.recall(logits, y)\n",
    "        \n",
    "        # log\n",
    "        # default => on_epoch=True, on_step=False\n",
    "        self.log('val_loss', loss)\n",
    "        self.log('Accuracy', self.acc)\n",
    "        self.log('F1', self.f1)\n",
    "        self.log('Precision',self.pre)\n",
    "        self.log('Recall', self.recall)\n",
    "        \n",
    "        # /log\n",
    "        return {'val_loss': loss}"
   ]
  },
  {
   "cell_type": "code",
   "execution_count": null,
   "id": "646ac386",
   "metadata": {},
   "outputs": [
    {
     "name": "stderr",
     "output_type": "stream",
     "text": [
      "/home/ubuntu/.local/lib/python3.6/site-packages/pytorch_lightning/trainer/connectors/accelerator_connector.py:287: LightningDeprecationWarning: Passing `Trainer(accelerator='dp')` has been deprecated in v1.5 and will be removed in v1.7. Use `Trainer(strategy='dp')` instead.\n",
      "  f\"Passing `Trainer(accelerator={self.distributed_backend!r})` has been deprecated\"\n",
      "GPU available: True, used: True\n",
      "TPU available: False, using: 0 TPU cores\n",
      "IPU available: False, using: 0 IPUs\n",
      "LOCAL_RANK: 0 - CUDA_VISIBLE_DEVICES: [0,1,2,3]\n",
      "\n",
      "  | Name    | Type      | Params\n",
      "--------------------------------------\n",
      "0 | model   | Ensemble  | 26.7 M\n",
      "1 | loss_fn | NLLLoss   | 0     \n",
      "2 | acc     | Accuracy  | 0     \n",
      "3 | f1      | F1        | 0     \n",
      "4 | pre     | Precision | 0     \n",
      "5 | recall  | Recall    | 0     \n",
      "--------------------------------------\n",
      "26.7 M    Trainable params\n",
      "0         Non-trainable params\n",
      "26.7 M    Total params\n",
      "106.744   Total estimated model params size (MB)\n"
     ]
    },
    {
     "data": {
      "application/vnd.jupyter.widget-view+json": {
       "model_id": "",
       "version_major": 2,
       "version_minor": 0
      },
      "text/plain": [
       "Validation sanity check: 0it [00:00, ?it/s]"
      ]
     },
     "metadata": {},
     "output_type": "display_data"
    },
    {
     "data": {
      "application/vnd.jupyter.widget-view+json": {
       "model_id": "591f407614d845e18b9b9b0ac9a39e3f",
       "version_major": 2,
       "version_minor": 0
      },
      "text/plain": [
       "Training: 0it [00:00, ?it/s]"
      ]
     },
     "metadata": {},
     "output_type": "display_data"
    },
    {
     "data": {
      "application/vnd.jupyter.widget-view+json": {
       "model_id": "",
       "version_major": 2,
       "version_minor": 0
      },
      "text/plain": [
       "Validating: 0it [00:00, ?it/s]"
      ]
     },
     "metadata": {},
     "output_type": "display_data"
    },
    {
     "data": {
      "application/vnd.jupyter.widget-view+json": {
       "model_id": "",
       "version_major": 2,
       "version_minor": 0
      },
      "text/plain": [
       "Validating: 0it [00:00, ?it/s]"
      ]
     },
     "metadata": {},
     "output_type": "display_data"
    },
    {
     "data": {
      "application/vnd.jupyter.widget-view+json": {
       "model_id": "",
       "version_major": 2,
       "version_minor": 0
      },
      "text/plain": [
       "Validating: 0it [00:00, ?it/s]"
      ]
     },
     "metadata": {},
     "output_type": "display_data"
    },
    {
     "data": {
      "application/vnd.jupyter.widget-view+json": {
       "model_id": "",
       "version_major": 2,
       "version_minor": 0
      },
      "text/plain": [
       "Validating: 0it [00:00, ?it/s]"
      ]
     },
     "metadata": {},
     "output_type": "display_data"
    },
    {
     "data": {
      "application/vnd.jupyter.widget-view+json": {
       "model_id": "",
       "version_major": 2,
       "version_minor": 0
      },
      "text/plain": [
       "Validating: 0it [00:00, ?it/s]"
      ]
     },
     "metadata": {},
     "output_type": "display_data"
    },
    {
     "data": {
      "application/vnd.jupyter.widget-view+json": {
       "model_id": "",
       "version_major": 2,
       "version_minor": 0
      },
      "text/plain": [
       "Validating: 0it [00:00, ?it/s]"
      ]
     },
     "metadata": {},
     "output_type": "display_data"
    },
    {
     "data": {
      "application/vnd.jupyter.widget-view+json": {
       "model_id": "",
       "version_major": 2,
       "version_minor": 0
      },
      "text/plain": [
       "Validating: 0it [00:00, ?it/s]"
      ]
     },
     "metadata": {},
     "output_type": "display_data"
    },
    {
     "data": {
      "application/vnd.jupyter.widget-view+json": {
       "model_id": "",
       "version_major": 2,
       "version_minor": 0
      },
      "text/plain": [
       "Validating: 0it [00:00, ?it/s]"
      ]
     },
     "metadata": {},
     "output_type": "display_data"
    },
    {
     "data": {
      "application/vnd.jupyter.widget-view+json": {
       "model_id": "6844d1a9a7bd4f52a417264d3bf84040",
       "version_major": 2,
       "version_minor": 0
      },
      "text/plain": [
       "Validating: 0it [00:00, ?it/s]"
      ]
     },
     "metadata": {},
     "output_type": "display_data"
    }
   ],
   "source": [
    "from pytorch_lightning import Trainer\n",
    "\n",
    "trainer = Trainer(gpus=[3],\n",
    "                  accelerator='dp',\n",
    "                  max_epochs=10)\n",
    "\n",
    "model = Network()\n",
    "data = DataModule()\n",
    "trainer.fit(model=model, datamodule=data)"
   ]
  },
  {
   "cell_type": "code",
   "execution_count": null,
   "id": "072e2a72",
   "metadata": {},
   "outputs": [],
   "source": []
  },
  {
   "cell_type": "code",
   "execution_count": null,
   "id": "a738d2d8",
   "metadata": {},
   "outputs": [],
   "source": []
  },
  {
   "cell_type": "code",
   "execution_count": null,
   "id": "bcd85be8",
   "metadata": {},
   "outputs": [],
   "source": []
  },
  {
   "cell_type": "code",
   "execution_count": null,
   "id": "93773c1e",
   "metadata": {},
   "outputs": [],
   "source": []
  },
  {
   "cell_type": "code",
   "execution_count": null,
   "id": "575a5244",
   "metadata": {},
   "outputs": [],
   "source": []
  },
  {
   "cell_type": "code",
   "execution_count": null,
   "id": "94ad7b9b",
   "metadata": {},
   "outputs": [],
   "source": []
  },
  {
   "cell_type": "code",
   "execution_count": null,
   "id": "3335b2e6",
   "metadata": {},
   "outputs": [],
   "source": []
  },
  {
   "cell_type": "code",
   "execution_count": null,
   "id": "43b8c9b4",
   "metadata": {},
   "outputs": [],
   "source": []
  },
  {
   "cell_type": "code",
   "execution_count": null,
   "id": "b9c665fc",
   "metadata": {},
   "outputs": [],
   "source": []
  },
  {
   "cell_type": "code",
   "execution_count": null,
   "id": "8a909f4a",
   "metadata": {},
   "outputs": [],
   "source": []
  }
 ],
 "metadata": {
  "kernelspec": {
   "display_name": "Python 3",
   "language": "python",
   "name": "python3"
  },
  "language_info": {
   "codemirror_mode": {
    "name": "ipython",
    "version": 3
   },
   "file_extension": ".py",
   "mimetype": "text/x-python",
   "name": "python",
   "nbconvert_exporter": "python",
   "pygments_lexer": "ipython3",
   "version": "3.6.9"
  }
 },
 "nbformat": 4,
 "nbformat_minor": 5
}
