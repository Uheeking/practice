{
 "cells": [
  {
   "cell_type": "code",
   "execution_count": 2,
   "id": "a89cb4bd",
   "metadata": {},
   "outputs": [],
   "source": [
    "import torch\n",
    "import torch.nn as nn\n",
    "import torch.nn.functional as F\n",
    "import torch.optim as optim"
   ]
  },
  {
   "cell_type": "code",
   "execution_count": 3,
   "id": "24dbcde2",
   "metadata": {},
   "outputs": [
    {
     "data": {
      "text/plain": [
       "<torch._C.Generator at 0x7f1f87523d98>"
      ]
     },
     "execution_count": 3,
     "metadata": {},
     "output_type": "execute_result"
    }
   ],
   "source": [
    "torch.manual_seed(1)"
   ]
  },
  {
   "cell_type": "code",
   "execution_count": 4,
   "id": "d1b9208a",
   "metadata": {},
   "outputs": [],
   "source": [
    "x_data = [[1,2],[2,3],[3,4],[5,6],[6,7],[6,2]]\n",
    "y_data = [[0],[0],[0],[1],[1],[1]]\n",
    "x_train = torch.FloatTensor(x_data)\n",
    "y_train = torch.FloatTensor(y_data)"
   ]
  },
  {
   "cell_type": "code",
   "execution_count": 6,
   "id": "e45b270f",
   "metadata": {},
   "outputs": [],
   "source": [
    "model = nn.Sequential(\n",
    "    nn.Linear(2,1),\n",
    "    nn.Sigmoid()\n",
    ")"
   ]
  },
  {
   "cell_type": "code",
   "execution_count": 7,
   "id": "6306bbb9",
   "metadata": {},
   "outputs": [
    {
     "data": {
      "text/plain": [
       "tensor([[0.4020],\n",
       "        [0.4147],\n",
       "        [0.4274],\n",
       "        [0.4531],\n",
       "        [0.4661],\n",
       "        [0.8061]], grad_fn=<SigmoidBackward>)"
      ]
     },
     "execution_count": 7,
     "metadata": {},
     "output_type": "execute_result"
    }
   ],
   "source": [
    "model(x_train)"
   ]
  },
  {
   "cell_type": "code",
   "execution_count": 8,
   "id": "84b600be",
   "metadata": {},
   "outputs": [
    {
     "name": "stdout",
     "output_type": "stream",
     "text": [
      "epoch 0.000000/1000 cost : 0.562967 accuracy66.67\n",
      "epoch 10.000000/1000 cost : 0.335205 accuracy83.33\n",
      "epoch 20.000000/1000 cost : 0.491071 accuracy66.67\n",
      "epoch 30.000000/1000 cost : 0.445933 accuracy66.67\n",
      "epoch 40.000000/1000 cost : 0.298479 accuracy83.33\n",
      "epoch 50.000000/1000 cost : 0.172082 accuracy83.33\n",
      "epoch 60.000000/1000 cost : 0.088872 accuracy100.00\n",
      "epoch 70.000000/1000 cost : 0.053014 accuracy100.00\n",
      "epoch 80.000000/1000 cost : 0.050462 accuracy100.00\n",
      "epoch 90.000000/1000 cost : 0.048406 accuracy100.00\n",
      "epoch 100.000000/1000 cost : 0.046524 accuracy100.00\n",
      "epoch 110.000000/1000 cost : 0.044793 accuracy100.00\n",
      "epoch 120.000000/1000 cost : 0.043196 accuracy100.00\n",
      "epoch 130.000000/1000 cost : 0.041716 accuracy100.00\n",
      "epoch 140.000000/1000 cost : 0.040341 accuracy100.00\n",
      "epoch 150.000000/1000 cost : 0.039059 accuracy100.00\n",
      "epoch 160.000000/1000 cost : 0.037861 accuracy100.00\n",
      "epoch 170.000000/1000 cost : 0.036739 accuracy100.00\n",
      "epoch 180.000000/1000 cost : 0.035686 accuracy100.00\n",
      "epoch 190.000000/1000 cost : 0.034694 accuracy100.00\n",
      "epoch 200.000000/1000 cost : 0.033760 accuracy100.00\n",
      "epoch 210.000000/1000 cost : 0.032877 accuracy100.00\n",
      "epoch 220.000000/1000 cost : 0.032041 accuracy100.00\n",
      "epoch 230.000000/1000 cost : 0.031250 accuracy100.00\n",
      "epoch 240.000000/1000 cost : 0.030498 accuracy100.00\n",
      "epoch 250.000000/1000 cost : 0.029783 accuracy100.00\n",
      "epoch 260.000000/1000 cost : 0.029103 accuracy100.00\n",
      "epoch 270.000000/1000 cost : 0.028454 accuracy100.00\n",
      "epoch 280.000000/1000 cost : 0.027836 accuracy100.00\n",
      "epoch 290.000000/1000 cost : 0.027244 accuracy100.00\n",
      "epoch 300.000000/1000 cost : 0.026679 accuracy100.00\n",
      "epoch 310.000000/1000 cost : 0.026137 accuracy100.00\n",
      "epoch 320.000000/1000 cost : 0.025618 accuracy100.00\n",
      "epoch 330.000000/1000 cost : 0.025120 accuracy100.00\n",
      "epoch 340.000000/1000 cost : 0.024642 accuracy100.00\n",
      "epoch 350.000000/1000 cost : 0.024182 accuracy100.00\n",
      "epoch 360.000000/1000 cost : 0.023740 accuracy100.00\n",
      "epoch 370.000000/1000 cost : 0.023314 accuracy100.00\n",
      "epoch 380.000000/1000 cost : 0.022904 accuracy100.00\n",
      "epoch 390.000000/1000 cost : 0.022509 accuracy100.00\n",
      "epoch 400.000000/1000 cost : 0.022127 accuracy100.00\n",
      "epoch 410.000000/1000 cost : 0.021759 accuracy100.00\n",
      "epoch 420.000000/1000 cost : 0.021403 accuracy100.00\n",
      "epoch 430.000000/1000 cost : 0.021059 accuracy100.00\n",
      "epoch 440.000000/1000 cost : 0.020726 accuracy100.00\n",
      "epoch 450.000000/1000 cost : 0.020404 accuracy100.00\n",
      "epoch 460.000000/1000 cost : 0.020093 accuracy100.00\n",
      "epoch 470.000000/1000 cost : 0.019790 accuracy100.00\n",
      "epoch 480.000000/1000 cost : 0.019498 accuracy100.00\n",
      "epoch 490.000000/1000 cost : 0.019214 accuracy100.00\n",
      "epoch 500.000000/1000 cost : 0.018938 accuracy100.00\n",
      "epoch 510.000000/1000 cost : 0.018670 accuracy100.00\n",
      "epoch 520.000000/1000 cost : 0.018410 accuracy100.00\n",
      "epoch 530.000000/1000 cost : 0.018158 accuracy100.00\n",
      "epoch 540.000000/1000 cost : 0.017912 accuracy100.00\n",
      "epoch 550.000000/1000 cost : 0.017673 accuracy100.00\n",
      "epoch 560.000000/1000 cost : 0.017441 accuracy100.00\n",
      "epoch 570.000000/1000 cost : 0.017215 accuracy100.00\n",
      "epoch 580.000000/1000 cost : 0.016995 accuracy100.00\n",
      "epoch 590.000000/1000 cost : 0.016780 accuracy100.00\n",
      "epoch 600.000000/1000 cost : 0.016571 accuracy100.00\n",
      "epoch 610.000000/1000 cost : 0.016367 accuracy100.00\n",
      "epoch 620.000000/1000 cost : 0.016169 accuracy100.00\n",
      "epoch 630.000000/1000 cost : 0.015975 accuracy100.00\n",
      "epoch 640.000000/1000 cost : 0.015786 accuracy100.00\n",
      "epoch 650.000000/1000 cost : 0.015601 accuracy100.00\n",
      "epoch 660.000000/1000 cost : 0.015421 accuracy100.00\n",
      "epoch 670.000000/1000 cost : 0.015245 accuracy100.00\n",
      "epoch 680.000000/1000 cost : 0.015073 accuracy100.00\n",
      "epoch 690.000000/1000 cost : 0.014905 accuracy100.00\n",
      "epoch 700.000000/1000 cost : 0.014741 accuracy100.00\n",
      "epoch 710.000000/1000 cost : 0.014581 accuracy100.00\n",
      "epoch 720.000000/1000 cost : 0.014424 accuracy100.00\n",
      "epoch 730.000000/1000 cost : 0.014270 accuracy100.00\n",
      "epoch 740.000000/1000 cost : 0.014120 accuracy100.00\n",
      "epoch 750.000000/1000 cost : 0.013973 accuracy100.00\n",
      "epoch 760.000000/1000 cost : 0.013829 accuracy100.00\n",
      "epoch 770.000000/1000 cost : 0.013688 accuracy100.00\n",
      "epoch 780.000000/1000 cost : 0.013550 accuracy100.00\n",
      "epoch 790.000000/1000 cost : 0.013415 accuracy100.00\n",
      "epoch 800.000000/1000 cost : 0.013282 accuracy100.00\n",
      "epoch 810.000000/1000 cost : 0.013153 accuracy100.00\n",
      "epoch 820.000000/1000 cost : 0.013025 accuracy100.00\n",
      "epoch 830.000000/1000 cost : 0.012901 accuracy100.00\n",
      "epoch 840.000000/1000 cost : 0.012778 accuracy100.00\n",
      "epoch 850.000000/1000 cost : 0.012658 accuracy100.00\n",
      "epoch 860.000000/1000 cost : 0.012540 accuracy100.00\n",
      "epoch 870.000000/1000 cost : 0.012425 accuracy100.00\n",
      "epoch 880.000000/1000 cost : 0.012311 accuracy100.00\n",
      "epoch 890.000000/1000 cost : 0.012200 accuracy100.00\n",
      "epoch 900.000000/1000 cost : 0.012091 accuracy100.00\n",
      "epoch 910.000000/1000 cost : 0.011984 accuracy100.00\n",
      "epoch 920.000000/1000 cost : 0.011878 accuracy100.00\n",
      "epoch 930.000000/1000 cost : 0.011775 accuracy100.00\n",
      "epoch 940.000000/1000 cost : 0.011673 accuracy100.00\n",
      "epoch 950.000000/1000 cost : 0.011573 accuracy100.00\n",
      "epoch 960.000000/1000 cost : 0.011475 accuracy100.00\n",
      "epoch 970.000000/1000 cost : 0.011379 accuracy100.00\n",
      "epoch 980.000000/1000 cost : 0.011284 accuracy100.00\n",
      "epoch 990.000000/1000 cost : 0.011190 accuracy100.00\n",
      "epoch 1000.000000/1000 cost : 0.011099 accuracy100.00\n"
     ]
    }
   ],
   "source": [
    "optimizer = optim.SGD(model.parameters(), lr=1)\n",
    "\n",
    "nb_epochs = 1000\n",
    "for epoch in range(nb_epochs+1):\n",
    "    hypo = model(x_train)\n",
    "    cost = F.binary_cross_entropy(hypo, y_train)\n",
    "    optimizer.zero_grad()\n",
    "    cost.backward()\n",
    "    optimizer.step()\n",
    "    \n",
    "    if epoch % 10 == 0 :\n",
    "        prediction = hypo >=torch.FloatTensor([0.5])\n",
    "        correct_pre = prediction.float() == y_train\n",
    "        accuracy = correct_pre.sum().item()/len(correct_pre)\n",
    "        print('epoch {:4f}/{} cost : {:6f} accuracy{:2.2f}'.format(\n",
    "        epoch, nb_epochs, cost.item(),accuracy*100))"
   ]
  },
  {
   "cell_type": "code",
   "execution_count": null,
   "id": "cb203037",
   "metadata": {},
   "outputs": [],
   "source": []
  },
  {
   "cell_type": "code",
   "execution_count": null,
   "id": "e0a9db48",
   "metadata": {},
   "outputs": [],
   "source": []
  },
  {
   "cell_type": "code",
   "execution_count": null,
   "id": "aef1454c",
   "metadata": {},
   "outputs": [],
   "source": []
  },
  {
   "cell_type": "code",
   "execution_count": null,
   "id": "1dc30d24",
   "metadata": {},
   "outputs": [],
   "source": []
  },
  {
   "cell_type": "code",
   "execution_count": null,
   "id": "8399efb1",
   "metadata": {},
   "outputs": [],
   "source": []
  },
  {
   "cell_type": "code",
   "execution_count": null,
   "id": "144c8b13",
   "metadata": {},
   "outputs": [],
   "source": []
  },
  {
   "cell_type": "code",
   "execution_count": null,
   "id": "7bfe0c4f",
   "metadata": {},
   "outputs": [],
   "source": []
  },
  {
   "cell_type": "code",
   "execution_count": null,
   "id": "b546cdee",
   "metadata": {},
   "outputs": [],
   "source": []
  },
  {
   "cell_type": "code",
   "execution_count": null,
   "id": "7efe9cba",
   "metadata": {},
   "outputs": [],
   "source": []
  },
  {
   "cell_type": "code",
   "execution_count": null,
   "id": "bff0e986",
   "metadata": {},
   "outputs": [],
   "source": []
  },
  {
   "cell_type": "code",
   "execution_count": null,
   "id": "77d925fd",
   "metadata": {},
   "outputs": [],
   "source": []
  },
  {
   "cell_type": "code",
   "execution_count": null,
   "id": "9fa2a8d9",
   "metadata": {},
   "outputs": [],
   "source": []
  },
  {
   "cell_type": "code",
   "execution_count": null,
   "id": "3ba2d377",
   "metadata": {},
   "outputs": [],
   "source": []
  },
  {
   "cell_type": "code",
   "execution_count": null,
   "id": "e19ab659",
   "metadata": {},
   "outputs": [],
   "source": []
  },
  {
   "cell_type": "code",
   "execution_count": null,
   "id": "d6d68e32",
   "metadata": {},
   "outputs": [],
   "source": []
  },
  {
   "cell_type": "code",
   "execution_count": null,
   "id": "6d9b8710",
   "metadata": {},
   "outputs": [],
   "source": []
  },
  {
   "cell_type": "code",
   "execution_count": null,
   "id": "7f30a598",
   "metadata": {},
   "outputs": [],
   "source": []
  },
  {
   "cell_type": "code",
   "execution_count": null,
   "id": "82d54575",
   "metadata": {},
   "outputs": [],
   "source": []
  },
  {
   "cell_type": "code",
   "execution_count": null,
   "id": "0eaa766f",
   "metadata": {},
   "outputs": [],
   "source": []
  },
  {
   "cell_type": "code",
   "execution_count": null,
   "id": "afd55bcb",
   "metadata": {},
   "outputs": [],
   "source": []
  },
  {
   "cell_type": "code",
   "execution_count": null,
   "id": "9b8feb69",
   "metadata": {},
   "outputs": [],
   "source": []
  },
  {
   "cell_type": "code",
   "execution_count": null,
   "id": "5b4176b9",
   "metadata": {},
   "outputs": [],
   "source": []
  }
 ],
 "metadata": {
  "kernelspec": {
   "display_name": "Python 3",
   "language": "python",
   "name": "python3"
  },
  "language_info": {
   "codemirror_mode": {
    "name": "ipython",
    "version": 3
   },
   "file_extension": ".py",
   "mimetype": "text/x-python",
   "name": "python",
   "nbconvert_exporter": "python",
   "pygments_lexer": "ipython3",
   "version": "3.6.9"
  }
 },
 "nbformat": 4,
 "nbformat_minor": 5
}
