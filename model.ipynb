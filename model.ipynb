{
 "cells": [
  {
   "cell_type": "code",
   "execution_count": 5,
   "id": "69150f73",
   "metadata": {},
   "outputs": [],
   "source": [
    "import torch\n",
    "import torch.nn as nn\n",
    "import torch.nn.functional as F\n",
    "from torchvision.models import resnet50\n",
    "from collections import OrderedDict\n",
    "\n",
    "from pooling import SPoC, MAC, GeM"
   ]
  },
  {
   "cell_type": "code",
   "execution_count": 10,
   "id": "6a0fcdb5",
   "metadata": {},
   "outputs": [
    {
     "ename": "IndentationError",
     "evalue": "unexpected indent (<ipython-input-10-c106674eaded>, line 35)",
     "output_type": "error",
     "traceback": [
      "\u001b[0;36m  File \u001b[0;32m\"<ipython-input-10-c106674eaded>\"\u001b[0;36m, line \u001b[0;32m35\u001b[0m\n\u001b[0;31m    for idx in range(3):\u001b[0m\n\u001b[0m    ^\u001b[0m\n\u001b[0;31mIndentationError\u001b[0m\u001b[0;31m:\u001b[0m unexpected indent\n"
     ]
    }
   ],
   "source": [
    "class CMG(nn.Module):\n",
    "    def __init__(self,freeze=False,\n",
    "                num_classes=20):\n",
    "        super().backbone = resnet50(pretrained=True)\n",
    "        del self.backbone.avgpool, self.backbone.fc\n",
    "        \n",
    "        if freeze :\n",
    "            for param in self.backbone.parameters():\n",
    "                param.requires_grad = False\n",
    "                \n",
    "        poolings = [GeM(), SPoC(), MAC()]\n",
    "        \n",
    "        for idx, module in enumerate(pooling):\n",
    "            setattr(self, f'pool-{idx}', module)\n",
    "            setattr(self, f'fc-{idx}', nn.Linear(2048,512))\n",
    "            \n",
    "        self.flatten =  nn.Flatten()\n",
    "        \n",
    "#         self.bn = nn.BatchNorm1d(2048)\n",
    "#         self.relu = nn.ReLU()\n",
    "#         self.clf = nn.Linear(2048,num_classes)\n",
    "        \n",
    "        self.classification = nn.Sequential(\n",
    "            OrderedDict({\n",
    "                'bn': nn.BatchNorm1d(2048),\n",
    "                'relu':nn.ReLU(),\n",
    "                'clf': nn.Linear(2048,num_classes)\n",
    "            })\n",
    "        )\n",
    "    def forward(self,x):\n",
    "        for _, module in self.backbone.named_children():\n",
    "            x = module(x)\n",
    "        \n",
    "    global_description = []\n",
    "    for idx in range(3):\n",
    "            pool = getattr(self, f'pool-{idx}')\n",
    "            fc = getattr(self, f'fc-{idx}')\n",
    "            \n",
    "            if idx == 0:\n",
    "                y_hat = self.classification(tmp_x)\n",
    "            \n",
    "            tmp_x = pool(x)\n",
    "            tmp_x = self.flatten(tmp_x)\n",
    "            tmp_x = fc(tmp_x)\n",
    "            tmp_x = F.normalize(tmp_x)\n",
    "            global_description.append(tmp_x)\n",
    "            \n",
    "        # Concat\n",
    "    x = torch.cat(global_description, 1)\n",
    "    x = F.normalize(x)\n",
    "    return x, y_hat\n"
   ]
  },
  {
   "cell_type": "code",
   "execution_count": null,
   "id": "4e597f69",
   "metadata": {},
   "outputs": [],
   "source": []
  }
 ],
 "metadata": {
  "kernelspec": {
   "display_name": "Python 3",
   "language": "python",
   "name": "python3"
  },
  "language_info": {
   "codemirror_mode": {
    "name": "ipython",
    "version": 3
   },
   "file_extension": ".py",
   "mimetype": "text/x-python",
   "name": "python",
   "nbconvert_exporter": "python",
   "pygments_lexer": "ipython3",
   "version": "3.6.9"
  }
 },
 "nbformat": 4,
 "nbformat_minor": 5
}
