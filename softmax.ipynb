{
 "cells": [
  {
   "cell_type": "code",
   "execution_count": 2,
   "id": "7cdbcf10",
   "metadata": {},
   "outputs": [],
   "source": [
    "import torch\n",
    "import torch.nn as nn\n",
    "import torch.nn.functional as F\n",
    "import torch.optim as optim"
   ]
  },
  {
   "cell_type": "code",
   "execution_count": 3,
   "id": "7fa43f0a",
   "metadata": {},
   "outputs": [
    {
     "data": {
      "text/plain": [
       "<torch._C.Generator at 0x7f3896842780>"
      ]
     },
     "execution_count": 3,
     "metadata": {},
     "output_type": "execute_result"
    }
   ],
   "source": [
    "torch.manual_seed(1)"
   ]
  },
  {
   "cell_type": "code",
   "execution_count": 4,
   "id": "0bc618d7",
   "metadata": {},
   "outputs": [],
   "source": [
    "x_train = [[1, 2, 1, 1],\n",
    "           [2, 1, 3, 2],\n",
    "           [3, 1, 3, 4],\n",
    "           [4, 1, 5, 5],\n",
    "           [1, 7, 5, 5],\n",
    "           [1, 2, 5, 6],\n",
    "           [1, 6, 6, 6],\n",
    "           [1, 7, 7, 7]]\n",
    "y_train = [2, 2, 2, 1, 1, 1, 0, 0]\n",
    "x_train = torch.FloatTensor(x_train)\n",
    "y_train = torch.LongTensor(y_train)"
   ]
  },
  {
   "cell_type": "code",
   "execution_count": 5,
   "id": "f26853ed",
   "metadata": {},
   "outputs": [
    {
     "name": "stdout",
     "output_type": "stream",
     "text": [
      "torch.Size([8, 4])\n",
      "torch.Size([8])\n"
     ]
    }
   ],
   "source": [
    "print(x_train.shape)\n",
    "print(y_train.shape)"
   ]
  },
  {
   "cell_type": "code",
   "execution_count": 8,
   "id": "ef54f000",
   "metadata": {},
   "outputs": [
    {
     "name": "stdout",
     "output_type": "stream",
     "text": [
      "tensor([[0., 0., 0.],\n",
      "        [0., 0., 0.],\n",
      "        [0., 0., 0.],\n",
      "        [0., 0., 0.],\n",
      "        [0., 0., 0.],\n",
      "        [0., 0., 0.],\n",
      "        [0., 0., 0.],\n",
      "        [0., 0., 0.]])\n"
     ]
    }
   ],
   "source": [
    "y_one_hot = torch.zeros(8,3)\n",
    "\n",
    "print(y_one_hot)"
   ]
  },
  {
   "cell_type": "code",
   "execution_count": 10,
   "id": "17652832",
   "metadata": {},
   "outputs": [
    {
     "name": "stdout",
     "output_type": "stream",
     "text": [
      "tensor([[0., 0., 1.],\n",
      "        [0., 0., 1.],\n",
      "        [0., 0., 1.],\n",
      "        [0., 1., 0.],\n",
      "        [0., 1., 0.],\n",
      "        [0., 1., 0.],\n",
      "        [1., 0., 0.],\n",
      "        [1., 0., 0.]])\n"
     ]
    }
   ],
   "source": [
    "y_one_hot.scatter_(1, y_train.unsqueeze(1), 1)\n",
    "print(y_one_hot)"
   ]
  },
  {
   "cell_type": "code",
   "execution_count": 11,
   "id": "fc77b000",
   "metadata": {},
   "outputs": [
    {
     "name": "stdout",
     "output_type": "stream",
     "text": [
      "tensor([[2],\n",
      "        [2],\n",
      "        [2],\n",
      "        [1],\n",
      "        [1],\n",
      "        [1],\n",
      "        [0],\n",
      "        [0]])\n"
     ]
    }
   ],
   "source": [
    "print(y_train.unsqueeze(1))"
   ]
  },
  {
   "cell_type": "code",
   "execution_count": 12,
   "id": "d03adada",
   "metadata": {},
   "outputs": [],
   "source": [
    "w = torch.zeros((4,3), requires_grad=True)\n",
    "b = torch.zeros((8,3), requires_grad=True)"
   ]
  },
  {
   "cell_type": "code",
   "execution_count": 13,
   "id": "20d15a4f",
   "metadata": {},
   "outputs": [],
   "source": [
    "optimizer = optim.SGD([w,b],lr=0.1)"
   ]
  },
  {
   "cell_type": "code",
   "execution_count": 15,
   "id": "858216ec",
   "metadata": {},
   "outputs": [
    {
     "name": "stdout",
     "output_type": "stream",
     "text": [
      "epoch    0/1000 cost 0.036812\n",
      "epoch   10/1000 cost 0.036439\n",
      "epoch   20/1000 cost 0.036073\n",
      "epoch   30/1000 cost 0.035715\n",
      "epoch   40/1000 cost 0.035363\n",
      "epoch   50/1000 cost 0.035018\n",
      "epoch   60/1000 cost 0.034680\n",
      "epoch   70/1000 cost 0.034348\n",
      "epoch   80/1000 cost 0.034022\n",
      "epoch   90/1000 cost 0.033703\n",
      "epoch  100/1000 cost 0.033389\n",
      "epoch  110/1000 cost 0.033081\n",
      "epoch  120/1000 cost 0.032778\n",
      "epoch  130/1000 cost 0.032481\n",
      "epoch  140/1000 cost 0.032189\n",
      "epoch  150/1000 cost 0.031902\n",
      "epoch  160/1000 cost 0.031620\n",
      "epoch  170/1000 cost 0.031343\n",
      "epoch  180/1000 cost 0.031071\n",
      "epoch  190/1000 cost 0.030804\n",
      "epoch  200/1000 cost 0.030541\n",
      "epoch  210/1000 cost 0.030282\n",
      "epoch  220/1000 cost 0.030028\n",
      "epoch  230/1000 cost 0.029777\n",
      "epoch  240/1000 cost 0.029531\n",
      "epoch  250/1000 cost 0.029289\n",
      "epoch  260/1000 cost 0.029051\n",
      "epoch  270/1000 cost 0.028816\n",
      "epoch  280/1000 cost 0.028586\n",
      "epoch  290/1000 cost 0.028358\n",
      "epoch  300/1000 cost 0.028135\n",
      "epoch  310/1000 cost 0.027915\n",
      "epoch  320/1000 cost 0.027698\n",
      "epoch  330/1000 cost 0.027485\n",
      "epoch  340/1000 cost 0.027274\n",
      "epoch  350/1000 cost 0.027067\n",
      "epoch  360/1000 cost 0.026863\n",
      "epoch  370/1000 cost 0.026662\n",
      "epoch  380/1000 cost 0.026464\n",
      "epoch  390/1000 cost 0.026269\n",
      "epoch  400/1000 cost 0.026077\n",
      "epoch  410/1000 cost 0.025887\n",
      "epoch  420/1000 cost 0.025700\n",
      "epoch  430/1000 cost 0.025516\n",
      "epoch  440/1000 cost 0.025334\n",
      "epoch  450/1000 cost 0.025155\n",
      "epoch  460/1000 cost 0.024979\n",
      "epoch  470/1000 cost 0.024805\n",
      "epoch  480/1000 cost 0.024633\n",
      "epoch  490/1000 cost 0.024463\n",
      "epoch  500/1000 cost 0.024296\n",
      "epoch  510/1000 cost 0.024131\n",
      "epoch  520/1000 cost 0.023969\n",
      "epoch  530/1000 cost 0.023808\n",
      "epoch  540/1000 cost 0.023650\n",
      "epoch  550/1000 cost 0.023493\n",
      "epoch  560/1000 cost 0.023339\n",
      "epoch  570/1000 cost 0.023187\n",
      "epoch  580/1000 cost 0.023036\n",
      "epoch  590/1000 cost 0.022888\n",
      "epoch  600/1000 cost 0.022741\n",
      "epoch  610/1000 cost 0.022596\n",
      "epoch  620/1000 cost 0.022454\n",
      "epoch  630/1000 cost 0.022312\n",
      "epoch  640/1000 cost 0.022173\n",
      "epoch  650/1000 cost 0.022035\n",
      "epoch  660/1000 cost 0.021899\n",
      "epoch  670/1000 cost 0.021765\n",
      "epoch  680/1000 cost 0.021632\n",
      "epoch  690/1000 cost 0.021501\n",
      "epoch  700/1000 cost 0.021372\n",
      "epoch  710/1000 cost 0.021243\n",
      "epoch  720/1000 cost 0.021117\n",
      "epoch  730/1000 cost 0.020992\n",
      "epoch  740/1000 cost 0.020868\n",
      "epoch  750/1000 cost 0.020746\n",
      "epoch  760/1000 cost 0.020625\n",
      "epoch  770/1000 cost 0.020506\n",
      "epoch  780/1000 cost 0.020388\n",
      "epoch  790/1000 cost 0.020271\n",
      "epoch  800/1000 cost 0.020156\n",
      "epoch  810/1000 cost 0.020042\n",
      "epoch  820/1000 cost 0.019929\n",
      "epoch  830/1000 cost 0.019818\n",
      "epoch  840/1000 cost 0.019708\n",
      "epoch  850/1000 cost 0.019598\n",
      "epoch  860/1000 cost 0.019491\n",
      "epoch  870/1000 cost 0.019384\n",
      "epoch  880/1000 cost 0.019278\n",
      "epoch  890/1000 cost 0.019174\n",
      "epoch  900/1000 cost 0.019071\n",
      "epoch  910/1000 cost 0.018968\n",
      "epoch  920/1000 cost 0.018867\n",
      "epoch  930/1000 cost 0.018767\n",
      "epoch  940/1000 cost 0.018668\n",
      "epoch  950/1000 cost 0.018570\n",
      "epoch  960/1000 cost 0.018473\n",
      "epoch  970/1000 cost 0.018377\n",
      "epoch  980/1000 cost 0.018282\n",
      "epoch  990/1000 cost 0.018188\n",
      "epoch 1000/1000 cost 0.018095\n"
     ]
    }
   ],
   "source": [
    "nb_epochs = 1000\n",
    "for epoch in range(nb_epochs+1):\n",
    "    hypo = x_train.matmul(w)+b\n",
    "    cost = F.cross_entropy(hypo, y_train)\n",
    "    \n",
    "    optimizer.zero_grad()\n",
    "    cost.backward()\n",
    "    optimizer.step()\n",
    "    \n",
    "    if epoch % 10 ==0:\n",
    "        print('epoch {:4d}/{} cost {:4f}'.format(epoch, nb_epochs, cost.item()))\n",
    "        "
   ]
  },
  {
   "cell_type": "code",
   "execution_count": null,
   "id": "def87d33",
   "metadata": {},
   "outputs": [],
   "source": []
  },
  {
   "cell_type": "code",
   "execution_count": null,
   "id": "e33457d9",
   "metadata": {},
   "outputs": [],
   "source": []
  },
  {
   "cell_type": "code",
   "execution_count": 16,
   "id": "49b91a98",
   "metadata": {},
   "outputs": [],
   "source": [
    "import torch\n",
    "import torch.nn as nn\n",
    "import torch.nn.functional as F\n",
    "import torch.optim as optim"
   ]
  },
  {
   "cell_type": "code",
   "execution_count": 17,
   "id": "edb84a77",
   "metadata": {},
   "outputs": [
    {
     "data": {
      "text/plain": [
       "<torch._C.Generator at 0x7f3896842780>"
      ]
     },
     "execution_count": 17,
     "metadata": {},
     "output_type": "execute_result"
    }
   ],
   "source": [
    "torch.manual_seed(1)"
   ]
  },
  {
   "cell_type": "code",
   "execution_count": 18,
   "id": "dd038af2",
   "metadata": {},
   "outputs": [],
   "source": [
    "model = nn.Linear(4,3)"
   ]
  },
  {
   "cell_type": "code",
   "execution_count": 22,
   "id": "167a235e",
   "metadata": {},
   "outputs": [
    {
     "name": "stdout",
     "output_type": "stream",
     "text": [
      "epoch    0/1000 cost 1.616785\n",
      "epoch   20/1000 cost 0.904600\n",
      "epoch   40/1000 cost 0.778017\n",
      "epoch   60/1000 cost 0.722806\n",
      "epoch   80/1000 cost 0.686341\n",
      "epoch  100/1000 cost 0.658891\n",
      "epoch  120/1000 cost 0.636713\n",
      "epoch  140/1000 cost 0.617946\n",
      "epoch  160/1000 cost 0.601539\n",
      "epoch  180/1000 cost 0.586845\n",
      "epoch  200/1000 cost 0.573443\n",
      "epoch  220/1000 cost 0.561047\n",
      "epoch  240/1000 cost 0.549451\n",
      "epoch  260/1000 cost 0.538507\n",
      "epoch  280/1000 cost 0.528102\n",
      "epoch  300/1000 cost 0.518151\n",
      "epoch  320/1000 cost 0.508588\n",
      "epoch  340/1000 cost 0.499357\n",
      "epoch  360/1000 cost 0.490416\n",
      "epoch  380/1000 cost 0.481729\n",
      "epoch  400/1000 cost 0.473265\n",
      "epoch  420/1000 cost 0.465000\n",
      "epoch  440/1000 cost 0.456911\n",
      "epoch  460/1000 cost 0.448979\n",
      "epoch  480/1000 cost 0.441185\n",
      "epoch  500/1000 cost 0.433516\n",
      "epoch  520/1000 cost 0.425956\n",
      "epoch  540/1000 cost 0.418493\n",
      "epoch  560/1000 cost 0.411114\n",
      "epoch  580/1000 cost 0.403807\n",
      "epoch  600/1000 cost 0.396563\n",
      "epoch  620/1000 cost 0.389370\n",
      "epoch  640/1000 cost 0.382218\n",
      "epoch  660/1000 cost 0.375097\n",
      "epoch  680/1000 cost 0.367999\n",
      "epoch  700/1000 cost 0.360914\n",
      "epoch  720/1000 cost 0.353833\n",
      "epoch  740/1000 cost 0.346748\n",
      "epoch  760/1000 cost 0.339651\n",
      "epoch  780/1000 cost 0.332535\n",
      "epoch  800/1000 cost 0.325392\n",
      "epoch  820/1000 cost 0.318218\n",
      "epoch  840/1000 cost 0.311008\n",
      "epoch  860/1000 cost 0.303762\n",
      "epoch  880/1000 cost 0.296482\n",
      "epoch  900/1000 cost 0.289178\n",
      "epoch  920/1000 cost 0.281874\n",
      "epoch  940/1000 cost 0.274610\n",
      "epoch  960/1000 cost 0.267463\n",
      "epoch  980/1000 cost 0.260570\n",
      "epoch 1000/1000 cost 0.254148\n"
     ]
    }
   ],
   "source": [
    "optimizer = optim.SGD(model.parameters(), lr=0.1)\n",
    "\n",
    "nb_epochs = 1000\n",
    "for epoch in range(nb_epochs+1):\n",
    "    hypo = model(x_train)\n",
    "    cost = F.cross_entropy(hypo, y_train)\n",
    "    \n",
    "    optimizer.zero_grad()\n",
    "    cost.backward()\n",
    "    optimizer.step()\n",
    "    \n",
    "    if epoch % 20 ==0:\n",
    "        print('epoch {:4d}/{} cost {:4f}'.format(epoch, nb_epochs, cost.item()))"
   ]
  },
  {
   "cell_type": "code",
   "execution_count": 23,
   "id": "a6a3b671",
   "metadata": {},
   "outputs": [],
   "source": [
    "class Softmax(nn.Module):\n",
    "    def __init__(self):\n",
    "        super().__init__()\n",
    "        self.linear = nn.Linear(4,3)\n",
    "        \n",
    "    def forward(self,x):\n",
    "        return self.linear(x)"
   ]
  },
  {
   "cell_type": "code",
   "execution_count": 24,
   "id": "87c64921",
   "metadata": {},
   "outputs": [],
   "source": [
    "model = Softmax()"
   ]
  },
  {
   "cell_type": "code",
   "execution_count": 25,
   "id": "6cb500c8",
   "metadata": {},
   "outputs": [],
   "source": [
    "optimizer = optim.SGD(model.parameters(),lr=0.1)"
   ]
  },
  {
   "cell_type": "code",
   "execution_count": 26,
   "id": "2ef792a7",
   "metadata": {},
   "outputs": [
    {
     "name": "stdout",
     "output_type": "stream",
     "text": [
      "epoch    0/1000 cost 2.637636\n",
      "epoch   20/1000 cost 0.887444\n",
      "epoch   40/1000 cost 0.773795\n",
      "epoch   60/1000 cost 0.714015\n",
      "epoch   80/1000 cost 0.675676\n",
      "epoch  100/1000 cost 0.647903\n",
      "epoch  120/1000 cost 0.625999\n",
      "epoch  140/1000 cost 0.607701\n",
      "epoch  160/1000 cost 0.591800\n",
      "epoch  180/1000 cost 0.577594\n",
      "epoch  200/1000 cost 0.564643\n",
      "epoch  220/1000 cost 0.552655\n",
      "epoch  240/1000 cost 0.541428\n",
      "epoch  260/1000 cost 0.530818\n",
      "epoch  280/1000 cost 0.520717\n",
      "epoch  300/1000 cost 0.511043\n",
      "epoch  320/1000 cost 0.501733\n",
      "epoch  340/1000 cost 0.492736\n",
      "epoch  360/1000 cost 0.484011\n",
      "epoch  380/1000 cost 0.475525\n",
      "epoch  400/1000 cost 0.467249\n",
      "epoch  420/1000 cost 0.459159\n",
      "epoch  440/1000 cost 0.451235\n",
      "epoch  460/1000 cost 0.443458\n",
      "epoch  480/1000 cost 0.435811\n",
      "epoch  500/1000 cost 0.428281\n",
      "epoch  520/1000 cost 0.420852\n",
      "epoch  540/1000 cost 0.413514\n",
      "epoch  560/1000 cost 0.406254\n",
      "epoch  580/1000 cost 0.399061\n",
      "epoch  600/1000 cost 0.391924\n",
      "epoch  620/1000 cost 0.384833\n",
      "epoch  640/1000 cost 0.377779\n",
      "epoch  660/1000 cost 0.370752\n",
      "epoch  680/1000 cost 0.363743\n",
      "epoch  700/1000 cost 0.356742\n",
      "epoch  720/1000 cost 0.349741\n",
      "epoch  740/1000 cost 0.342732\n",
      "epoch  760/1000 cost 0.335706\n",
      "epoch  780/1000 cost 0.328657\n",
      "epoch  800/1000 cost 0.321577\n",
      "epoch  820/1000 cost 0.314461\n",
      "epoch  840/1000 cost 0.307306\n",
      "epoch  860/1000 cost 0.300111\n",
      "epoch  880/1000 cost 0.292877\n",
      "epoch  900/1000 cost 0.285617\n",
      "epoch  920/1000 cost 0.278352\n",
      "epoch  940/1000 cost 0.271127\n",
      "epoch  960/1000 cost 0.264021\n",
      "epoch  980/1000 cost 0.257176\n",
      "epoch 1000/1000 cost 0.250818\n"
     ]
    }
   ],
   "source": [
    "for epoch in range(nb_epochs+1):\n",
    "    hypo = model(x_train)\n",
    "    cost = F.cross_entropy(hypo, y_train)\n",
    "    \n",
    "    optimizer.zero_grad()\n",
    "    cost.backward()\n",
    "    optimizer.step()\n",
    "    \n",
    "    if epoch % 20 == 0 :\n",
    "        print('epoch {:4d}/{} cost {:4f}'.format(epoch, nb_epochs, cost.item()))"
   ]
  },
  {
   "cell_type": "code",
   "execution_count": null,
   "id": "23a963cc",
   "metadata": {},
   "outputs": [],
   "source": []
  }
 ],
 "metadata": {
  "kernelspec": {
   "display_name": "Python 3",
   "language": "python",
   "name": "python3"
  },
  "language_info": {
   "codemirror_mode": {
    "name": "ipython",
    "version": 3
   },
   "file_extension": ".py",
   "mimetype": "text/x-python",
   "name": "python",
   "nbconvert_exporter": "python",
   "pygments_lexer": "ipython3",
   "version": "3.6.9"
  }
 },
 "nbformat": 4,
 "nbformat_minor": 5
}
