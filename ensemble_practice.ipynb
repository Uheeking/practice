{
 "cells": [
  {
   "cell_type": "code",
   "execution_count": 1,
   "id": "0fba7150",
   "metadata": {},
   "outputs": [],
   "source": [
    "import torch\n",
    "import torch.nn as nn\n",
    "import torchvision.models as models\n",
    "import torch.nn.functional as F\n",
    "\n",
    "from pooling import GeM, SPoC, MAC"
   ]
  },
  {
   "cell_type": "code",
   "execution_count": 2,
   "id": "8ea6ecc0",
   "metadata": {},
   "outputs": [],
   "source": [
    "class Ensemble(nn.Module):\n",
    "    def __init__(self):\n",
    "        super().__init__()\n",
    "        self.backbone = models.resnet50(pretrained=True)\n",
    "        del self.backbone.avgpool, self.backvone.fc\n",
    "        \n",
    "        poolings = [GeM(), SPoC(), MAC()]\n",
    "        \n",
    "        for idx, module in enumerate(poolings):\n",
    "            setattr(self, f'fc-{idx}', nn.Linear(2048,512))\n",
    "            setattr(self, f'pool-{idx}', module)\n",
    "        self.last_fc = nn.Linear(1536, 20)\n",
    "        \n",
    "    def forward(self, x):\n",
    "        for _, module in self.backbone.named_children():\n",
    "            x = module(x)\n",
    "            \n",
    "        xs =[]    \n",
    "        for idx in range(3):\n",
    "            fc = getattr(self, f'fc-{idx}')\n",
    "            pool =getattr(self, f'pool-{idx}')\n",
    "            \n",
    "            x = pool(x)\n",
    "            x = self.flatten(x)\n",
    "            x = fc(x)\n",
    "            x = F.normalize(x)\n",
    "            xs.append(x)\n",
    "            \n",
    "        x = torch.cat(xs, 1)\n",
    "        x = F.normalize(x)\n",
    "        x = self.last_fc(x)\n",
    "        return x"
   ]
  }
 ],
 "metadata": {
  "kernelspec": {
   "display_name": "Python 3",
   "language": "python",
   "name": "python3"
  },
  "language_info": {
   "codemirror_mode": {
    "name": "ipython",
    "version": 3
   },
   "file_extension": ".py",
   "mimetype": "text/x-python",
   "name": "python",
   "nbconvert_exporter": "python",
   "pygments_lexer": "ipython3",
   "version": "3.6.9"
  }
 },
 "nbformat": 4,
 "nbformat_minor": 5
}
