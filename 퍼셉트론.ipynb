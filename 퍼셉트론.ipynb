{
 "cells": [
  {
   "cell_type": "code",
   "execution_count": 11,
   "id": "0b22f237",
   "metadata": {},
   "outputs": [],
   "source": [
    "import torch\n",
    "import torch.nn as nn"
   ]
  },
  {
   "cell_type": "code",
   "execution_count": 12,
   "id": "a1819d89",
   "metadata": {},
   "outputs": [],
   "source": [
    "device = 'cuda' if torch.cuda.is_available() else 'cpu'\n",
    "torch.manual_seed(77)\n",
    "if device == 'cuda':\n",
    "    torch.cuda.manual_seed_all(77)"
   ]
  },
  {
   "cell_type": "code",
   "execution_count": 13,
   "id": "fd4d7895",
   "metadata": {},
   "outputs": [],
   "source": [
    "X = torch.FloatTensor([[0,0],[0,1],[1,0],[1,1]]).to(device)\n",
    "Y = torch.FloatTensor([[0],[1],[1],[0]]).to(device)"
   ]
  },
  {
   "cell_type": "code",
   "execution_count": 19,
   "id": "44d73e62",
   "metadata": {},
   "outputs": [],
   "source": [
    "linear = nn.Linear(2,1, bias=True)\n",
    "sigmoid = nn.Sigmoid()\n",
    "model = nn.Sequential(linear, sigmoid).to(device)"
   ]
  },
  {
   "cell_type": "code",
   "execution_count": 20,
   "id": "d57c3c3f",
   "metadata": {},
   "outputs": [],
   "source": [
    "criterion = torch.nn.BCELoss().to(device)\n",
    "optimizer = torch.optim.SGD(model.parameters(), lr = 1)"
   ]
  },
  {
   "cell_type": "code",
   "execution_count": 21,
   "id": "1c36cdd6",
   "metadata": {
    "scrolled": true
   },
   "outputs": [
    {
     "name": "stdout",
     "output_type": "stream",
     "text": [
      "0 0.7339653372764587\n",
      "100 0.6931490898132324\n",
      "200 0.6931472420692444\n",
      "300 0.6931472420692444\n",
      "400 0.6931472420692444\n",
      "500 0.6931472420692444\n",
      "600 0.6931472420692444\n",
      "700 0.6931472420692444\n",
      "800 0.6931472420692444\n",
      "900 0.6931472420692444\n",
      "1000 0.6931472420692444\n",
      "1100 0.6931472420692444\n",
      "1200 0.6931472420692444\n",
      "1300 0.6931472420692444\n",
      "1400 0.6931472420692444\n",
      "1500 0.6931472420692444\n",
      "1600 0.6931472420692444\n",
      "1700 0.6931472420692444\n",
      "1800 0.6931472420692444\n",
      "1900 0.6931472420692444\n",
      "2000 0.6931472420692444\n",
      "2100 0.6931472420692444\n",
      "2200 0.6931472420692444\n",
      "2300 0.6931472420692444\n",
      "2400 0.6931472420692444\n",
      "2500 0.6931472420692444\n",
      "2600 0.6931472420692444\n",
      "2700 0.6931472420692444\n",
      "2800 0.6931472420692444\n",
      "2900 0.6931472420692444\n",
      "3000 0.6931472420692444\n",
      "3100 0.6931472420692444\n",
      "3200 0.6931472420692444\n",
      "3300 0.6931472420692444\n",
      "3400 0.6931472420692444\n",
      "3500 0.6931472420692444\n",
      "3600 0.6931472420692444\n",
      "3700 0.6931472420692444\n",
      "3800 0.6931472420692444\n",
      "3900 0.6931472420692444\n",
      "4000 0.6931472420692444\n",
      "4100 0.6931472420692444\n",
      "4200 0.6931472420692444\n",
      "4300 0.6931472420692444\n",
      "4400 0.6931472420692444\n",
      "4500 0.6931472420692444\n",
      "4600 0.6931472420692444\n",
      "4700 0.6931472420692444\n",
      "4800 0.6931472420692444\n",
      "4900 0.6931472420692444\n",
      "5000 0.6931472420692444\n",
      "5100 0.6931472420692444\n",
      "5200 0.6931472420692444\n",
      "5300 0.6931472420692444\n",
      "5400 0.6931472420692444\n",
      "5500 0.6931472420692444\n",
      "5600 0.6931472420692444\n",
      "5700 0.6931472420692444\n",
      "5800 0.6931472420692444\n",
      "5900 0.6931472420692444\n",
      "6000 0.6931472420692444\n",
      "6100 0.6931472420692444\n",
      "6200 0.6931472420692444\n",
      "6300 0.6931472420692444\n",
      "6400 0.6931472420692444\n",
      "6500 0.6931472420692444\n",
      "6600 0.6931472420692444\n",
      "6700 0.6931472420692444\n",
      "6800 0.6931472420692444\n",
      "6900 0.6931472420692444\n",
      "7000 0.6931472420692444\n",
      "7100 0.6931472420692444\n",
      "7200 0.6931472420692444\n",
      "7300 0.6931472420692444\n",
      "7400 0.6931472420692444\n",
      "7500 0.6931472420692444\n",
      "7600 0.6931472420692444\n",
      "7700 0.6931472420692444\n",
      "7800 0.6931472420692444\n",
      "7900 0.6931472420692444\n",
      "8000 0.6931472420692444\n",
      "8100 0.6931472420692444\n",
      "8200 0.6931472420692444\n",
      "8300 0.6931472420692444\n",
      "8400 0.6931472420692444\n",
      "8500 0.6931472420692444\n",
      "8600 0.6931472420692444\n",
      "8700 0.6931472420692444\n",
      "8800 0.6931472420692444\n",
      "8900 0.6931472420692444\n",
      "9000 0.6931472420692444\n",
      "9100 0.6931472420692444\n",
      "9200 0.6931472420692444\n",
      "9300 0.6931472420692444\n",
      "9400 0.6931472420692444\n",
      "9500 0.6931472420692444\n",
      "9600 0.6931472420692444\n",
      "9700 0.6931472420692444\n",
      "9800 0.6931472420692444\n",
      "9900 0.6931472420692444\n",
      "10000 0.6931472420692444\n"
     ]
    }
   ],
   "source": [
    "for step in range(10001): \n",
    "    optimizer.zero_grad()\n",
    "    hypothesis = model(X)\n",
    "\n",
    "    # 비용 함수\n",
    "    cost = criterion(hypothesis, Y)\n",
    "    cost.backward()\n",
    "    optimizer.step()\n",
    "\n",
    "    if step % 100 == 0: # 100번째 에포크마다 비용 출력\n",
    "        print(step, cost.item())"
   ]
  },
  {
   "cell_type": "code",
   "execution_count": 26,
   "id": "f70c1651",
   "metadata": {},
   "outputs": [
    {
     "name": "stdout",
     "output_type": "stream",
     "text": [
      "출력값 tensor([[0.4998],\n",
      "        [0.5000],\n",
      "        [0.5000],\n",
      "        [0.5002]], device='cuda:0')\n",
      "예측값 tensor([[0.4998],\n",
      "        [0.5000],\n",
      "        [0.5000],\n",
      "        [0.5002]], device='cuda:0')\n",
      "실제값  [[0.]\n",
      " [1.]\n",
      " [1.]\n",
      " [0.]]\n",
      "정확도  0.5\n"
     ]
    }
   ],
   "source": [
    "with torch.no_grad():\n",
    "    hypo = model(X)\n",
    "    predict = (hypo>0.5).float()\n",
    "    accuracy = (predict==Y).float().mean()\n",
    "    print('출력값', hypo)\n",
    "    print('예측값', hypo)\n",
    "    print(\"실제값 \", Y.cpu().numpy())\n",
    "    print('정확도 ', accuracy.item())"
   ]
  },
  {
   "cell_type": "code",
   "execution_count": 27,
   "id": "9d04c884",
   "metadata": {},
   "outputs": [
    {
     "name": "stdout",
     "output_type": "stream",
     "text": [
      "출력값 [[0.49976307]\n",
      " [0.49999994]\n",
      " [0.50000006]\n",
      " [0.5002369 ]]\n",
      "예측값 [[0.49976307]\n",
      " [0.49999994]\n",
      " [0.50000006]\n",
      " [0.5002369 ]]\n",
      "실제값  [[0.]\n",
      " [1.]\n",
      " [1.]\n",
      " [0.]]\n",
      "정확도  0.5\n"
     ]
    }
   ],
   "source": [
    "with torch.no_grad():\n",
    "    hypo = model(X)\n",
    "    predict = (hypo>0.5).float()\n",
    "    accuracy = (predict==Y).float().mean()\n",
    "    print('출력값', hypo.detach().cpu().numpy())\n",
    "    print('예측값', hypo.detach().cpu().numpy())\n",
    "    print(\"실제값 \", Y.cpu().numpy())\n",
    "    print('정확도 ', accuracy.item())"
   ]
  },
  {
   "cell_type": "code",
   "execution_count": 28,
   "id": "5ce13a5d",
   "metadata": {},
   "outputs": [
    {
     "name": "stdout",
     "output_type": "stream",
     "text": [
      "tensor(0.5000, device='cuda:0')\n"
     ]
    }
   ],
   "source": [
    "print(accuracy)"
   ]
  },
  {
   "cell_type": "code",
   "execution_count": 30,
   "id": "5fadbc3b",
   "metadata": {},
   "outputs": [
    {
     "name": "stdout",
     "output_type": "stream",
     "text": [
      "tensor([[0.],\n",
      "        [0.],\n",
      "        [1.],\n",
      "        [1.]], device='cuda:0')\n"
     ]
    }
   ],
   "source": [
    "print((hypothesis > 0.5).float())"
   ]
  },
  {
   "cell_type": "markdown",
   "id": "c822f4f0",
   "metadata": {},
   "source": [
    "### 다중 퍼셉트론"
   ]
  },
  {
   "cell_type": "code",
   "execution_count": 31,
   "id": "0ca00001",
   "metadata": {},
   "outputs": [],
   "source": [
    "import torch"
   ]
  },
  {
   "cell_type": "code",
   "execution_count": 32,
   "id": "f6698acc",
   "metadata": {},
   "outputs": [],
   "source": [
    "device = 'cuda' if torch.cuda.is_available() else 'cpu'\n",
    "torch.manual_seed(1)\n",
    "if device == 'cuda':\n",
    "    torch.cuda.manual_seed_all(1)"
   ]
  },
  {
   "cell_type": "code",
   "execution_count": 33,
   "id": "61f62cd0",
   "metadata": {},
   "outputs": [],
   "source": [
    "X = torch.FloatTensor([[0,0],[0,1],[1,0],[1,1]]).to(device)\n",
    "Y = torch.FloatTensor([[0],[1],[1],[0]]).to(device)"
   ]
  },
  {
   "cell_type": "code",
   "execution_count": 54,
   "id": "0e6d0a64",
   "metadata": {},
   "outputs": [],
   "source": [
    "model = nn.Sequential(\n",
    "    nn.Linear(2,10),\n",
    "    nn.Sigmoid(),\n",
    "    nn.Linear(10,10),\n",
    "    nn.Sigmoid(),\n",
    "    nn.Linear(10,10),\n",
    "    nn.Sigmoid(),\n",
    "    nn.Linear(10,1),\n",
    "    nn.Sigmoid()\n",
    ").to(device)"
   ]
  },
  {
   "cell_type": "code",
   "execution_count": 55,
   "id": "014394df",
   "metadata": {},
   "outputs": [],
   "source": [
    "criterion = torch.nn.BCELoss().to(device)\n",
    "optimizer = torch.optim.SGD(model.parameters(), lr=1)"
   ]
  },
  {
   "cell_type": "code",
   "execution_count": 56,
   "id": "73cb7c49",
   "metadata": {
    "collapsed": true
   },
   "outputs": [
    {
     "name": "stdout",
     "output_type": "stream",
     "text": [
      "epoch    0/range(0, 10001) cost 0.7019\n",
      "epoch  100/range(0, 10001) cost 0.6931\n",
      "epoch  200/range(0, 10001) cost 0.6931\n",
      "epoch  300/range(0, 10001) cost 0.6931\n",
      "epoch  400/range(0, 10001) cost 0.6931\n",
      "epoch  500/range(0, 10001) cost 0.6931\n",
      "epoch  600/range(0, 10001) cost 0.6931\n",
      "epoch  700/range(0, 10001) cost 0.6931\n",
      "epoch  800/range(0, 10001) cost 0.6931\n",
      "epoch  900/range(0, 10001) cost 0.6931\n",
      "epoch 1000/range(0, 10001) cost 0.6931\n",
      "epoch 1100/range(0, 10001) cost 0.6931\n",
      "epoch 1200/range(0, 10001) cost 0.6931\n",
      "epoch 1300/range(0, 10001) cost 0.6931\n",
      "epoch 1400/range(0, 10001) cost 0.6931\n",
      "epoch 1500/range(0, 10001) cost 0.6931\n",
      "epoch 1600/range(0, 10001) cost 0.6930\n",
      "epoch 1700/range(0, 10001) cost 0.6930\n",
      "epoch 1800/range(0, 10001) cost 0.6930\n",
      "epoch 1900/range(0, 10001) cost 0.6930\n",
      "epoch 2000/range(0, 10001) cost 0.6930\n",
      "epoch 2100/range(0, 10001) cost 0.6930\n",
      "epoch 2200/range(0, 10001) cost 0.6929\n",
      "epoch 2300/range(0, 10001) cost 0.6929\n",
      "epoch 2400/range(0, 10001) cost 0.6929\n",
      "epoch 2500/range(0, 10001) cost 0.6928\n",
      "epoch 2600/range(0, 10001) cost 0.6927\n",
      "epoch 2700/range(0, 10001) cost 0.6926\n",
      "epoch 2800/range(0, 10001) cost 0.6924\n",
      "epoch 2900/range(0, 10001) cost 0.6921\n",
      "epoch 3000/range(0, 10001) cost 0.6917\n",
      "epoch 3100/range(0, 10001) cost 0.6907\n",
      "epoch 3200/range(0, 10001) cost 0.6888\n",
      "epoch 3300/range(0, 10001) cost 0.6832\n",
      "epoch 3400/range(0, 10001) cost 0.6582\n",
      "epoch 3500/range(0, 10001) cost 0.5458\n",
      "epoch 3600/range(0, 10001) cost 0.4993\n",
      "epoch 3700/range(0, 10001) cost 0.0147\n",
      "epoch 3800/range(0, 10001) cost 0.0058\n",
      "epoch 3900/range(0, 10001) cost 0.0035\n",
      "epoch 4000/range(0, 10001) cost 0.0024\n",
      "epoch 4100/range(0, 10001) cost 0.0018\n",
      "epoch 4200/range(0, 10001) cost 0.0015\n",
      "epoch 4300/range(0, 10001) cost 0.0012\n",
      "epoch 4400/range(0, 10001) cost 0.0011\n",
      "epoch 4500/range(0, 10001) cost 0.0009\n",
      "epoch 4600/range(0, 10001) cost 0.0008\n",
      "epoch 4700/range(0, 10001) cost 0.0007\n",
      "epoch 4800/range(0, 10001) cost 0.0007\n",
      "epoch 4900/range(0, 10001) cost 0.0006\n",
      "epoch 5000/range(0, 10001) cost 0.0006\n",
      "epoch 5100/range(0, 10001) cost 0.0005\n",
      "epoch 5200/range(0, 10001) cost 0.0005\n",
      "epoch 5300/range(0, 10001) cost 0.0004\n",
      "epoch 5400/range(0, 10001) cost 0.0004\n",
      "epoch 5500/range(0, 10001) cost 0.0004\n",
      "epoch 5600/range(0, 10001) cost 0.0004\n",
      "epoch 5700/range(0, 10001) cost 0.0003\n",
      "epoch 5800/range(0, 10001) cost 0.0003\n",
      "epoch 5900/range(0, 10001) cost 0.0003\n",
      "epoch 6000/range(0, 10001) cost 0.0003\n",
      "epoch 6100/range(0, 10001) cost 0.0003\n",
      "epoch 6200/range(0, 10001) cost 0.0003\n",
      "epoch 6300/range(0, 10001) cost 0.0003\n",
      "epoch 6400/range(0, 10001) cost 0.0003\n",
      "epoch 6500/range(0, 10001) cost 0.0002\n",
      "epoch 6600/range(0, 10001) cost 0.0002\n",
      "epoch 6700/range(0, 10001) cost 0.0002\n",
      "epoch 6800/range(0, 10001) cost 0.0002\n",
      "epoch 6900/range(0, 10001) cost 0.0002\n",
      "epoch 7000/range(0, 10001) cost 0.0002\n",
      "epoch 7100/range(0, 10001) cost 0.0002\n",
      "epoch 7200/range(0, 10001) cost 0.0002\n",
      "epoch 7300/range(0, 10001) cost 0.0002\n",
      "epoch 7400/range(0, 10001) cost 0.0002\n",
      "epoch 7500/range(0, 10001) cost 0.0002\n",
      "epoch 7600/range(0, 10001) cost 0.0002\n",
      "epoch 7700/range(0, 10001) cost 0.0002\n",
      "epoch 7800/range(0, 10001) cost 0.0002\n",
      "epoch 7900/range(0, 10001) cost 0.0002\n",
      "epoch 8000/range(0, 10001) cost 0.0002\n",
      "epoch 8100/range(0, 10001) cost 0.0001\n",
      "epoch 8200/range(0, 10001) cost 0.0001\n",
      "epoch 8300/range(0, 10001) cost 0.0001\n",
      "epoch 8400/range(0, 10001) cost 0.0001\n",
      "epoch 8500/range(0, 10001) cost 0.0001\n",
      "epoch 8600/range(0, 10001) cost 0.0001\n",
      "epoch 8700/range(0, 10001) cost 0.0001\n",
      "epoch 8800/range(0, 10001) cost 0.0001\n",
      "epoch 8900/range(0, 10001) cost 0.0001\n",
      "epoch 9000/range(0, 10001) cost 0.0001\n",
      "epoch 9100/range(0, 10001) cost 0.0001\n",
      "epoch 9200/range(0, 10001) cost 0.0001\n",
      "epoch 9300/range(0, 10001) cost 0.0001\n",
      "epoch 9400/range(0, 10001) cost 0.0001\n",
      "epoch 9500/range(0, 10001) cost 0.0001\n",
      "epoch 9600/range(0, 10001) cost 0.0001\n",
      "epoch 9700/range(0, 10001) cost 0.0001\n",
      "epoch 9800/range(0, 10001) cost 0.0001\n",
      "epoch 9900/range(0, 10001) cost 0.0001\n",
      "epoch 10000/range(0, 10001) cost 0.0001\n"
     ]
    }
   ],
   "source": [
    "for epoch in range(10001):\n",
    "    hypo = model(X)\n",
    "    cost = criterion(hypo, Y)\n",
    "    \n",
    "    optimizer.zero_grad()\n",
    "    cost.backward()\n",
    "    optimizer.step()\n",
    "    \n",
    "    if epoch % 100==0:\n",
    "        print('epoch {:4d}/{} cost {:.4f}'.format(epoch, range(10001), cost.item()))"
   ]
  },
  {
   "cell_type": "code",
   "execution_count": 66,
   "id": "361c4d46",
   "metadata": {},
   "outputs": [
    {
     "name": "stdout",
     "output_type": "stream",
     "text": [
      "출력값tensor([[7.5558e-05],\n",
      "        [9.9989e-01],\n",
      "        [9.9990e-01],\n",
      "        [1.1912e-04]], device='cuda:0')\n",
      "예측값tensor([[0.],\n",
      "        [1.],\n",
      "        [1.],\n",
      "        [0.]], device='cuda:0')\n",
      "실제값tensor([[0.],\n",
      "        [1.],\n",
      "        [1.],\n",
      "        [0.]], device='cuda:0')\n",
      "정확도1.0\n"
     ]
    }
   ],
   "source": [
    "with torch.no_grad():\n",
    "    hypo = model(X)\n",
    "    pre = (hypo>0.5).float()\n",
    "    accuracy = (pre==Y).float().mean()\n",
    "    print(\"출력값{}\".format(hypo))\n",
    "    print(\"예측값{}\".format(cost))\n",
    "    print(\"실제값{}\".format(Y))\n",
    "    print(\"정확도{}\".format(accuracy.item()))"
   ]
  },
  {
   "cell_type": "code",
   "execution_count": null,
   "id": "e1a383a6",
   "metadata": {},
   "outputs": [],
   "source": []
  }
 ],
 "metadata": {
  "kernelspec": {
   "display_name": "Python 3",
   "language": "python",
   "name": "python3"
  },
  "language_info": {
   "codemirror_mode": {
    "name": "ipython",
    "version": 3
   },
   "file_extension": ".py",
   "mimetype": "text/x-python",
   "name": "python",
   "nbconvert_exporter": "python",
   "pygments_lexer": "ipython3",
   "version": "3.6.9"
  }
 },
 "nbformat": 4,
 "nbformat_minor": 5
}
