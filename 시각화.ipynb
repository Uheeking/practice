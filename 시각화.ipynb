{
 "cells": [
  {
   "cell_type": "code",
   "execution_count": 5,
   "id": "1649af55",
   "metadata": {},
   "outputs": [],
   "source": [
    "import matplotlib.pyplot as plt\n",
    "import numpy as np\n",
    "\n",
    "import torch\n",
    "import torch.nn as nn\n",
    "import torchvision\n",
    "import torchvision.transforms as transforms\n",
    "import torch.nn.functional as F\n",
    "import torch.optim as optim"
   ]
  },
  {
   "cell_type": "code",
   "execution_count": 6,
   "id": "84180b1c",
   "metadata": {},
   "outputs": [
    {
     "name": "stdout",
     "output_type": "stream",
     "text": [
      "Downloading http://fashion-mnist.s3-website.eu-central-1.amazonaws.com/train-images-idx3-ubyte.gz\n",
      "Downloading http://fashion-mnist.s3-website.eu-central-1.amazonaws.com/train-images-idx3-ubyte.gz to ./data/FashionMNIST/raw/train-images-idx3-ubyte.gz\n"
     ]
    },
    {
     "data": {
      "application/vnd.jupyter.widget-view+json": {
       "model_id": "d35657c58c864019953c7685175b0499",
       "version_major": 2,
       "version_minor": 0
      },
      "text/plain": [
       "  0%|          | 0/26421880 [00:00<?, ?it/s]"
      ]
     },
     "metadata": {},
     "output_type": "display_data"
    },
    {
     "name": "stdout",
     "output_type": "stream",
     "text": [
      "Extracting ./data/FashionMNIST/raw/train-images-idx3-ubyte.gz to ./data/FashionMNIST/raw\n",
      "\n",
      "Downloading http://fashion-mnist.s3-website.eu-central-1.amazonaws.com/train-labels-idx1-ubyte.gz\n",
      "Downloading http://fashion-mnist.s3-website.eu-central-1.amazonaws.com/train-labels-idx1-ubyte.gz to ./data/FashionMNIST/raw/train-labels-idx1-ubyte.gz\n"
     ]
    },
    {
     "data": {
      "application/vnd.jupyter.widget-view+json": {
       "model_id": "2b74a4c04368427eb4f8b78a17146de8",
       "version_major": 2,
       "version_minor": 0
      },
      "text/plain": [
       "  0%|          | 0/29515 [00:00<?, ?it/s]"
      ]
     },
     "metadata": {},
     "output_type": "display_data"
    },
    {
     "name": "stdout",
     "output_type": "stream",
     "text": [
      "Extracting ./data/FashionMNIST/raw/train-labels-idx1-ubyte.gz to ./data/FashionMNIST/raw\n",
      "\n",
      "Downloading http://fashion-mnist.s3-website.eu-central-1.amazonaws.com/t10k-images-idx3-ubyte.gz\n",
      "Downloading http://fashion-mnist.s3-website.eu-central-1.amazonaws.com/t10k-images-idx3-ubyte.gz to ./data/FashionMNIST/raw/t10k-images-idx3-ubyte.gz\n"
     ]
    },
    {
     "data": {
      "application/vnd.jupyter.widget-view+json": {
       "model_id": "55cac4dd184d4e338cdd484276de55bf",
       "version_major": 2,
       "version_minor": 0
      },
      "text/plain": [
       "  0%|          | 0/4422102 [00:00<?, ?it/s]"
      ]
     },
     "metadata": {},
     "output_type": "display_data"
    },
    {
     "name": "stdout",
     "output_type": "stream",
     "text": [
      "Extracting ./data/FashionMNIST/raw/t10k-images-idx3-ubyte.gz to ./data/FashionMNIST/raw\n",
      "\n",
      "Downloading http://fashion-mnist.s3-website.eu-central-1.amazonaws.com/t10k-labels-idx1-ubyte.gz\n",
      "Downloading http://fashion-mnist.s3-website.eu-central-1.amazonaws.com/t10k-labels-idx1-ubyte.gz to ./data/FashionMNIST/raw/t10k-labels-idx1-ubyte.gz\n"
     ]
    },
    {
     "data": {
      "application/vnd.jupyter.widget-view+json": {
       "model_id": "12ee583763b04c0196a749de6f5bd4c0",
       "version_major": 2,
       "version_minor": 0
      },
      "text/plain": [
       "  0%|          | 0/5148 [00:00<?, ?it/s]"
      ]
     },
     "metadata": {},
     "output_type": "display_data"
    },
    {
     "name": "stdout",
     "output_type": "stream",
     "text": [
      "Extracting ./data/FashionMNIST/raw/t10k-labels-idx1-ubyte.gz to ./data/FashionMNIST/raw\n",
      "\n",
      "Processing...\n"
     ]
    },
    {
     "name": "stderr",
     "output_type": "stream",
     "text": [
      "/home/ubuntu/.local/lib/python3.6/site-packages/torchvision/datasets/mnist.py:502: UserWarning: The given NumPy array is not writeable, and PyTorch does not support non-writeable tensors. This means you can write to the underlying (supposedly non-writeable) NumPy array using the tensor. You may want to copy the array to protect its data or make it writeable before converting it to a tensor. This type of warning will be suppressed for the rest of this program. (Triggered internally at  ../torch/csrc/utils/tensor_numpy.cpp:143.)\n",
      "  return torch.from_numpy(parsed.astype(m[2], copy=False)).view(*s)\n"
     ]
    },
    {
     "name": "stdout",
     "output_type": "stream",
     "text": [
      "Done!\n"
     ]
    }
   ],
   "source": [
    "transform = transforms.Compose([\n",
    "    transforms.ToTensor(),\n",
    "    transforms.Normalize((0.5,),(0.5,))\n",
    "])\n",
    "\n",
    "trainset = torchvision.datasets.FashionMNIST(root='./data',\n",
    "                                            train=True,\n",
    "                                            download=True,\n",
    "                                            transform=transform)\n",
    "testset = torchvision.datasets.FashionMNIST(root='./data',\n",
    "                                            train=False,\n",
    "                                            download=True,\n",
    "                                            transform=transform)\n",
    "\n",
    "trainloader = torch.utils.data.DataLoader(trainset, batch_size=4,\n",
    "                                         shuffle=True, num_workers=2)\n",
    "testloader = torch.utils.data.DataLoader(trainset, batch_size=4,\n",
    "                                         shuffle=False, num_workers=2)\n",
    "\n",
    "classes = ('T-shirt/top', 'Trouser', 'Pullover', 'Dress', 'Coat',\n",
    "          'Sandal', 'Shirt', 'Sneaker', 'Bag', 'Ankle Boot')\n",
    "\n",
    "def matplotlib_imshow(img, one_channel=False):\n",
    "    if one_channel:\n",
    "        img = img.mean(dim=0)\n",
    "    img = img / 2+0.5\n",
    "    npimg = img.numpy()\n",
    "    if one_channel:\n",
    "        plt.imshow(npimg, cmap='Greys')\n",
    "    else:\n",
    "        plt.imshow(np.transpose(npimg, (1,2,0)))"
   ]
  },
  {
   "cell_type": "code",
   "execution_count": 7,
   "id": "6e5af548",
   "metadata": {},
   "outputs": [
    {
     "name": "stdout",
     "output_type": "stream",
     "text": [
      "Net(\n",
      "  (conv1): Conv2d(1, 6, kernel_size=(5, 5), stride=(1, 1))\n",
      "  (pool): MaxPool2d(kernel_size=2, stride=2, padding=0, dilation=1, ceil_mode=False)\n",
      "  (conv2): Conv2d(6, 16, kernel_size=(5, 5), stride=(1, 1))\n",
      "  (fc1): Linear(in_features=400, out_features=120, bias=True)\n",
      "  (fc2): Linear(in_features=84, out_features=10, bias=True)\n",
      ")\n"
     ]
    }
   ],
   "source": [
    "class Net(nn.Module):\n",
    "    def __init__(self):\n",
    "        super(Net, self).__init__()\n",
    "        self.conv1 = nn.Conv2d(1,6,5)\n",
    "        self.pool = nn.MaxPool2d(2,2)\n",
    "        self.conv2 = nn.Conv2d(6,16,5)\n",
    "        self.fc1 = nn.Linear(16*5*5,120)\n",
    "        self.fc2 = nn.Linear(120, 84)\n",
    "        self.fc2 = nn.Linear(84,10)\n",
    "        \n",
    "    def forward(self, x):\n",
    "        x = self.pool(F.relu(self.conv1(x)))\n",
    "        x = self.pool(F.relu(self.conv2(x)))\n",
    "        x = x.view(-1, 16*5*5)\n",
    "        x = F.relu(self.fc1(x))\n",
    "        x = F.relu(self.fc2(x))\n",
    "        x = self.fc3(x)\n",
    "        return x\n",
    "    \n",
    "net = Net()\n",
    "print(net)"
   ]
  },
  {
   "cell_type": "code",
   "execution_count": 8,
   "id": "b0d54947",
   "metadata": {},
   "outputs": [],
   "source": [
    "criterion = nn.CrossEntropyLoss()\n",
    "optimizer = optim.SGD(net.parameters(), lr=0.001, momentum=0.9)"
   ]
  },
  {
   "attachments": {
    "image.png": {
     "image/png": "[encoded data removed]"
    }
   },
   "cell_type": "markdown",
   "id": "d305b1b4",
   "metadata": {},
   "source": [
    "![image.png](attachment:image.png)"
   ]
  },
  {
   "cell_type": "code",
   "execution_count": null,
   "id": "c60f441c",
   "metadata": {},
   "outputs": [],
   "source": [
    "conv2d -> relu -> maxpool2d -> conv2d -> relu -> maxpool2d -> flatten -> linear\n",
    "-> relu -> linear -> relu -> linear \n",
    "-> mseloss\n",
    "-> loss"
   ]
  },
  {
   "cell_type": "code",
   "execution_count": 9,
   "id": "44b35da0",
   "metadata": {},
   "outputs": [],
   "source": [
    "from torch.utils.tensorboard import SummaryWriter\n",
    "\n",
    "writer = SummaryWriter('runs/fashion_mnist_experimnet_1')"
   ]
  },
  {
   "cell_type": "code",
   "execution_count": 10,
   "id": "c2381aab",
   "metadata": {},
   "outputs": [
    {
     "data": {
      "image/png": "[encoded data removed]",
      "text/plain": [
       "<Figure size 432x288 with 1 Axes>"
      ]
     },
     "metadata": {
      "needs_background": "light"
     },
     "output_type": "display_data"
    }
   ],
   "source": [
    "dataiter = iter(trainloader)\n",
    "images, labels = dataiter.next()\n",
    "\n",
    "img_grid = torchvision.utils.make_grid(images)\n",
    "matplotlib_imshow(img_grid, one_channel=True)\n",
    "writer.add_image('four_fashion_mnist_images',img_grid)"
   ]
  },
  {
   "cell_type": "code",
   "execution_count": 14,
   "id": "85e21c16",
   "metadata": {},
   "outputs": [
    {
     "name": "stdout",
     "output_type": "stream",
     "text": [
      "TensorFlow installation not found - running with reduced feature set.\n",
      "\n",
      "NOTE: Using experimental fast data loading logic. To disable, pass\n",
      "    \"--load_fast=false\" and report issues on GitHub. More details:\n",
      "    https://github.com/tensorflow/tensorboard/issues/4784\n",
      "\n",
      "I1228 16:51:29.296809 140525440747264 plugin.py:346] Monitor runs begin\n",
      "Serving TensorBoard on localhost; to expose to the network, use a proxy or pass --bind_all\n",
      "TensorBoard 2.7.0 at http://localhost:6006/ (Press CTRL+C to quit)\n",
      "^C\n",
      "Error in atexit._run_exitfuncs:\n",
      "Traceback (most recent call last):\n",
      "  File \"/usr/lib/python3.6/multiprocessing/managers.py\", line 749, in _callmethod\n",
      "    conn = self._tls.connection\n",
      "AttributeError: 'ForkAwareLocal' object has no attribute 'connection'\n",
      "\n",
      "During handling of the above exception, another exception occurred:\n",
      "\n",
      "Traceback (most recent call last):\n",
      "  File \"/usr/lib/python3.6/multiprocessing/connection.py\", line 614, in SocketClient\n",
      "    s.connect(address)\n",
      "FileNotFoundError: [Errno 2] No such file or directory\n"
     ]
    }
   ],
   "source": [
    "!tensorboard --logdir=runs"
   ]
  },
  {
   "cell_type": "code",
   "execution_count": 12,
   "id": "2a288c62",
   "metadata": {},
   "outputs": [
    {
     "ename": "SyntaxError",
     "evalue": "invalid syntax (<ipython-input-12-bf6e0bdbb8ae>, line 1)",
     "output_type": "error",
     "traceback": [
      "\u001b[0;36m  File \u001b[0;32m\"<ipython-input-12-bf6e0bdbb8ae>\"\u001b[0;36m, line \u001b[0;32m1\u001b[0m\n\u001b[0;31m    pip uninstall -y tensorboard tb-nightly &&\u001b[0m\n\u001b[0m                ^\u001b[0m\n\u001b[0;31mSyntaxError\u001b[0m\u001b[0;31m:\u001b[0m invalid syntax\n"
     ]
    }
   ],
   "source": [
    "pip uninstall -y tensorboard tb-nightly &&\n",
    "pip install tb-nightly  # must have at least tb-nightly==2.5.0a20210316"
   ]
  },
  {
   "cell_type": "code",
   "execution_count": 13,
   "id": "38da87b1",
   "metadata": {},
   "outputs": [
    {
     "name": "stdout",
     "output_type": "stream",
     "text": [
      "Defaulting to user installation because normal site-packages is not writeable\n",
      "Collecting jupyter-tensorboard\n",
      "  Downloading jupyter_tensorboard-0.2.0.tar.gz (15 kB)\n",
      "  Preparing metadata (setup.py) ... \u001b[?25ldone\n",
      "\u001b[?25hRequirement already satisfied: notebook>=5.0 in /home/ubuntu/.local/lib/python3.6/site-packages (from jupyter-tensorboard) (6.4.6)\n",
      "Requirement already satisfied: jupyter-client>=5.3.4 in /home/ubuntu/.local/lib/python3.6/site-packages (from notebook>=5.0->jupyter-tensorboard) (7.1.0)\n",
      "Requirement already satisfied: argon2-cffi in /home/ubuntu/.local/lib/python3.6/site-packages (from notebook>=5.0->jupyter-tensorboard) (21.2.0)\n",
      "Requirement already satisfied: traitlets>=4.2.1 in /usr/lib/python3/dist-packages (from notebook>=5.0->jupyter-tensorboard) (4.3.2)\n",
      "Requirement already satisfied: nbformat in /home/ubuntu/.local/lib/python3.6/site-packages (from notebook>=5.0->jupyter-tensorboard) (5.1.3)\n",
      "Requirement already satisfied: tornado>=6.1 in /home/ubuntu/.local/lib/python3.6/site-packages (from notebook>=5.0->jupyter-tensorboard) (6.1)\n",
      "Requirement already satisfied: nest-asyncio>=1.5 in /home/ubuntu/.local/lib/python3.6/site-packages (from notebook>=5.0->jupyter-tensorboard) (1.5.4)\n",
      "Requirement already satisfied: terminado>=0.8.3 in /home/ubuntu/.local/lib/python3.6/site-packages (from notebook>=5.0->jupyter-tensorboard) (0.12.1)\n",
      "Requirement already satisfied: nbconvert in /home/ubuntu/.local/lib/python3.6/site-packages (from notebook>=5.0->jupyter-tensorboard) (6.0.7)\n",
      "Requirement already satisfied: ipython-genutils in /usr/lib/python3/dist-packages (from notebook>=5.0->jupyter-tensorboard) (0.2.0)\n",
      "Requirement already satisfied: Send2Trash>=1.8.0 in /home/ubuntu/.local/lib/python3.6/site-packages (from notebook>=5.0->jupyter-tensorboard) (1.8.0)\n",
      "Requirement already satisfied: pyzmq>=17 in /home/ubuntu/.local/lib/python3.6/site-packages (from notebook>=5.0->jupyter-tensorboard) (22.3.0)\n",
      "Requirement already satisfied: ipykernel in /home/ubuntu/.local/lib/python3.6/site-packages (from notebook>=5.0->jupyter-tensorboard) (5.5.6)\n",
      "Requirement already satisfied: jupyter-core>=4.6.1 in /home/ubuntu/.local/lib/python3.6/site-packages (from notebook>=5.0->jupyter-tensorboard) (4.9.1)\n",
      "Requirement already satisfied: prometheus-client in /home/ubuntu/.local/lib/python3.6/site-packages (from notebook>=5.0->jupyter-tensorboard) (0.12.0)\n",
      "Requirement already satisfied: jinja2 in /home/ubuntu/.local/lib/python3.6/site-packages (from notebook>=5.0->jupyter-tensorboard) (3.0.2)\n",
      "Requirement already satisfied: entrypoints in /home/ubuntu/.local/lib/python3.6/site-packages (from jupyter-client>=5.3.4->notebook>=5.0->jupyter-tensorboard) (0.3)\n",
      "Requirement already satisfied: python-dateutil>=2.1 in /home/ubuntu/.local/lib/python3.6/site-packages (from jupyter-client>=5.3.4->notebook>=5.0->jupyter-tensorboard) (2.8.2)\n",
      "Requirement already satisfied: ptyprocess in /home/ubuntu/.local/lib/python3.6/site-packages (from terminado>=0.8.3->notebook>=5.0->jupyter-tensorboard) (0.7.0)\n",
      "Requirement already satisfied: argon2-cffi-bindings in /home/ubuntu/.local/lib/python3.6/site-packages (from argon2-cffi->notebook>=5.0->jupyter-tensorboard) (21.2.0)\n",
      "Requirement already satisfied: typing-extensions in /home/ubuntu/.local/lib/python3.6/site-packages (from argon2-cffi->notebook>=5.0->jupyter-tensorboard) (3.10.0.2)\n",
      "Requirement already satisfied: dataclasses in /home/ubuntu/.local/lib/python3.6/site-packages (from argon2-cffi->notebook>=5.0->jupyter-tensorboard) (0.8)\n",
      "Requirement already satisfied: ipython>=5.0.0 in /home/ubuntu/.local/lib/python3.6/site-packages (from ipykernel->notebook>=5.0->jupyter-tensorboard) (7.16.2)\n",
      "Requirement already satisfied: MarkupSafe>=2.0 in /home/ubuntu/.local/lib/python3.6/site-packages (from jinja2->notebook>=5.0->jupyter-tensorboard) (2.0.1)\n",
      "Requirement already satisfied: defusedxml in /home/ubuntu/.local/lib/python3.6/site-packages (from nbconvert->notebook>=5.0->jupyter-tensorboard) (0.7.1)\n",
      "Requirement already satisfied: nbclient<0.6.0,>=0.5.0 in /home/ubuntu/.local/lib/python3.6/site-packages (from nbconvert->notebook>=5.0->jupyter-tensorboard) (0.5.9)\n",
      "Requirement already satisfied: bleach in /home/ubuntu/.local/lib/python3.6/site-packages (from nbconvert->notebook>=5.0->jupyter-tensorboard) (4.1.0)\n",
      "Requirement already satisfied: jupyterlab-pygments in /home/ubuntu/.local/lib/python3.6/site-packages (from nbconvert->notebook>=5.0->jupyter-tensorboard) (0.1.2)\n",
      "Requirement already satisfied: mistune<2,>=0.8.1 in /home/ubuntu/.local/lib/python3.6/site-packages (from nbconvert->notebook>=5.0->jupyter-tensorboard) (0.8.4)\n",
      "Requirement already satisfied: pygments>=2.4.1 in /home/ubuntu/.local/lib/python3.6/site-packages (from nbconvert->notebook>=5.0->jupyter-tensorboard) (2.10.0)\n",
      "Requirement already satisfied: pandocfilters>=1.4.1 in /home/ubuntu/.local/lib/python3.6/site-packages (from nbconvert->notebook>=5.0->jupyter-tensorboard) (1.5.0)\n",
      "Requirement already satisfied: testpath in /home/ubuntu/.local/lib/python3.6/site-packages (from nbconvert->notebook>=5.0->jupyter-tensorboard) (0.5.0)\n",
      "Requirement already satisfied: jsonschema!=2.5.0,>=2.4 in /home/ubuntu/.local/lib/python3.6/site-packages (from nbformat->notebook>=5.0->jupyter-tensorboard) (3.2.0)\n",
      "Requirement already satisfied: pickleshare in /home/ubuntu/.local/lib/python3.6/site-packages (from ipython>=5.0.0->ipykernel->notebook>=5.0->jupyter-tensorboard) (0.7.5)\n",
      "Requirement already satisfied: jedi<=0.17.2,>=0.10 in /home/ubuntu/.local/lib/python3.6/site-packages (from ipython>=5.0.0->ipykernel->notebook>=5.0->jupyter-tensorboard) (0.17.2)\n",
      "Requirement already satisfied: pexpect in /home/ubuntu/.local/lib/python3.6/site-packages (from ipython>=5.0.0->ipykernel->notebook>=5.0->jupyter-tensorboard) (4.8.0)\n",
      "Requirement already satisfied: prompt-toolkit!=3.0.0,!=3.0.1,<3.1.0,>=2.0.0 in /home/ubuntu/.local/lib/python3.6/site-packages (from ipython>=5.0.0->ipykernel->notebook>=5.0->jupyter-tensorboard) (3.0.23)\n",
      "Requirement already satisfied: setuptools>=18.5 in /home/ubuntu/.local/lib/python3.6/site-packages (from ipython>=5.0.0->ipykernel->notebook>=5.0->jupyter-tensorboard) (58.4.0)\n",
      "Requirement already satisfied: decorator in /home/ubuntu/.local/lib/python3.6/site-packages (from ipython>=5.0.0->ipykernel->notebook>=5.0->jupyter-tensorboard) (4.4.2)\n",
      "Requirement already satisfied: backcall in /home/ubuntu/.local/lib/python3.6/site-packages (from ipython>=5.0.0->ipykernel->notebook>=5.0->jupyter-tensorboard) (0.2.0)\n",
      "Requirement already satisfied: six>=1.11.0 in /home/ubuntu/.local/lib/python3.6/site-packages (from jsonschema!=2.5.0,>=2.4->nbformat->notebook>=5.0->jupyter-tensorboard) (1.16.0)\n",
      "Requirement already satisfied: pyrsistent>=0.14.0 in /home/ubuntu/.local/lib/python3.6/site-packages (from jsonschema!=2.5.0,>=2.4->nbformat->notebook>=5.0->jupyter-tensorboard) (0.18.0)\n",
      "Requirement already satisfied: importlib-metadata in /home/ubuntu/.local/lib/python3.6/site-packages (from jsonschema!=2.5.0,>=2.4->nbformat->notebook>=5.0->jupyter-tensorboard) (4.8.1)\n",
      "Requirement already satisfied: attrs>=17.4.0 in /home/ubuntu/.local/lib/python3.6/site-packages (from jsonschema!=2.5.0,>=2.4->nbformat->notebook>=5.0->jupyter-tensorboard) (21.2.0)\n",
      "Requirement already satisfied: async-generator in /home/ubuntu/.local/lib/python3.6/site-packages (from nbclient<0.6.0,>=0.5.0->nbconvert->notebook>=5.0->jupyter-tensorboard) (1.10)\n",
      "Requirement already satisfied: cffi>=1.0.1 in /home/ubuntu/.local/lib/python3.6/site-packages (from argon2-cffi-bindings->argon2-cffi->notebook>=5.0->jupyter-tensorboard) (1.15.0)\n",
      "Requirement already satisfied: packaging in /home/ubuntu/.local/lib/python3.6/site-packages (from bleach->nbconvert->notebook>=5.0->jupyter-tensorboard) (21.2)\n",
      "Requirement already satisfied: webencodings in /home/ubuntu/.local/lib/python3.6/site-packages (from bleach->nbconvert->notebook>=5.0->jupyter-tensorboard) (0.5.1)\n",
      "Requirement already satisfied: pycparser in /home/ubuntu/.local/lib/python3.6/site-packages (from cffi>=1.0.1->argon2-cffi-bindings->argon2-cffi->notebook>=5.0->jupyter-tensorboard) (2.21)\n",
      "Requirement already satisfied: parso<0.8.0,>=0.7.0 in /home/ubuntu/.local/lib/python3.6/site-packages (from jedi<=0.17.2,>=0.10->ipython>=5.0.0->ipykernel->notebook>=5.0->jupyter-tensorboard) (0.7.1)\n",
      "Requirement already satisfied: wcwidth in /home/ubuntu/.local/lib/python3.6/site-packages (from prompt-toolkit!=3.0.0,!=3.0.1,<3.1.0,>=2.0.0->ipython>=5.0.0->ipykernel->notebook>=5.0->jupyter-tensorboard) (0.2.5)\n"
     ]
    },
    {
     "name": "stdout",
     "output_type": "stream",
     "text": [
      "Requirement already satisfied: zipp>=0.5 in /home/ubuntu/.local/lib/python3.6/site-packages (from importlib-metadata->jsonschema!=2.5.0,>=2.4->nbformat->notebook>=5.0->jupyter-tensorboard) (3.6.0)\n",
      "Requirement already satisfied: pyparsing<3,>=2.0.2 in /home/ubuntu/.local/lib/python3.6/site-packages (from packaging->bleach->nbconvert->notebook>=5.0->jupyter-tensorboard) (2.4.7)\n",
      "Building wheels for collected packages: jupyter-tensorboard\n",
      "  Building wheel for jupyter-tensorboard (setup.py) ... \u001b[?25ldone\n",
      "\u001b[?25h  Created wheel for jupyter-tensorboard: filename=jupyter_tensorboard-0.2.0-py2.py3-none-any.whl size=15258 sha256=06c05703bc2b896baad160c37596436803906e6091d74ea029f6f7f70063fcc9\n",
      "  Stored in directory: /home/ubuntu/.cache/pip/wheels/5b/ff/1d/88f2511c564a6b40eff44157694d8d9581e039e18f03682b42\n",
      "Successfully built jupyter-tensorboard\n",
      "Installing collected packages: jupyter-tensorboard\n",
      "Successfully installed jupyter-tensorboard-0.2.0\n"
     ]
    }
   ],
   "source": [
    "!pip install jupyter-tensorboard"
   ]
  },
  {
   "cell_type": "code",
   "execution_count": null,
   "id": "bf1b5fcf",
   "metadata": {},
   "outputs": [],
   "source": [
    "!pip install jupytext"
   ]
  },
  {
   "cell_type": "code",
   "execution_count": null,
   "id": "19aa47d0",
   "metadata": {},
   "outputs": [],
   "source": []
  }
 ],
 "metadata": {
  "kernelspec": {
   "display_name": "Python 3",
   "language": "python",
   "name": "python3"
  },
  "language_info": {
   "codemirror_mode": {
    "name": "ipython",
    "version": 3
   },
   "file_extension": ".py",
   "mimetype": "text/x-python",
   "name": "python",
   "nbconvert_exporter": "python",
   "pygments_lexer": "ipython3",
   "version": "3.6.9"
  }
 },
 "nbformat": 4,
 "nbformat_minor": 5
}
